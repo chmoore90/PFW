{
 "cells": [
  {
   "cell_type": "markdown",
   "id": "be02a957-7133-4d02-818e-fedeb3cecb05",
   "metadata": {},
   "source": [
    "# Project 1 -- Chloe Moore"
   ]
  },
  {
   "cell_type": "markdown",
   "id": "a1228853-dd19-4ab2-89e0-0394d7d72de3",
   "metadata": {},
   "source": [
    "**TA Help:**\n",
    "    \n",
    "**Collaboration:** "
   ]
  },
  {
   "cell_type": "markdown",
   "id": "6180e742-8e39-4698-98ff-5b00c8cf8ea0",
   "metadata": {},
   "source": [
    "## Question 1"
   ]
  },
  {
   "cell_type": "markdown",
   "id": "f39cf29b-ae70-4646-9e83-6b1afdbf384a",
   "metadata": {},
   "source": [
    "***Using the seminar kernel:***"
   ]
  },
  {
   "cell_type": "code",
   "execution_count": 1,
   "id": "1e51d4cd-530f-4a27-8a5c-c3d1fc0e14ed",
   "metadata": {},
   "outputs": [],
   "source": [
    "# import the pandas package and give it the shortened nickname \"pd\""
   ]
  },
  {
   "cell_type": "code",
   "execution_count": 2,
   "id": "49445606-d363-41b4-b479-e319a9a84c01",
   "metadata": {},
   "outputs": [],
   "source": [
    "import pandas as pd"
   ]
  },
  {
   "cell_type": "code",
   "execution_count": 3,
   "id": "5a7f5ddc-9ebb-41aa-9591-5bb63341f925",
   "metadata": {},
   "outputs": [],
   "source": [
    "# upload the dataset (given in question 1) and save it as \"myDF\""
   ]
  },
  {
   "cell_type": "code",
   "execution_count": 4,
   "id": "ad73b5d2-2ad1-45e0-ac4a-f97a1d69808c",
   "metadata": {},
   "outputs": [],
   "source": [
    "myDF = pd.read_csv(\"/anvil/projects/tdm/data/flights/subset/airports.csv\")"
   ]
  },
  {
   "cell_type": "code",
   "execution_count": 5,
   "id": "9222cf35-9a96-416f-ac8c-a6941a090644",
   "metadata": {},
   "outputs": [],
   "source": [
    "# show the first five entries of the dataset (rows 0-4)\n",
    "# the .head() method does this exactly, so all we have to do is call it"
   ]
  },
  {
   "cell_type": "code",
   "execution_count": 6,
   "id": "35f1a003-ab53-4d09-b9ae-c75a98cc275a",
   "metadata": {},
   "outputs": [
    {
     "data": {
      "text/html": [
       "<div>\n",
       "<style scoped>\n",
       "    .dataframe tbody tr th:only-of-type {\n",
       "        vertical-align: middle;\n",
       "    }\n",
       "\n",
       "    .dataframe tbody tr th {\n",
       "        vertical-align: top;\n",
       "    }\n",
       "\n",
       "    .dataframe thead th {\n",
       "        text-align: right;\n",
       "    }\n",
       "</style>\n",
       "<table border=\"1\" class=\"dataframe\">\n",
       "  <thead>\n",
       "    <tr style=\"text-align: right;\">\n",
       "      <th></th>\n",
       "      <th>iata</th>\n",
       "      <th>airport</th>\n",
       "      <th>city</th>\n",
       "      <th>state</th>\n",
       "      <th>country</th>\n",
       "      <th>lat</th>\n",
       "      <th>long</th>\n",
       "    </tr>\n",
       "  </thead>\n",
       "  <tbody>\n",
       "    <tr>\n",
       "      <th>0</th>\n",
       "      <td>00M</td>\n",
       "      <td>Thigpen</td>\n",
       "      <td>Bay Springs</td>\n",
       "      <td>MS</td>\n",
       "      <td>USA</td>\n",
       "      <td>31.953765</td>\n",
       "      <td>-89.234505</td>\n",
       "    </tr>\n",
       "    <tr>\n",
       "      <th>1</th>\n",
       "      <td>00R</td>\n",
       "      <td>Livingston Municipal</td>\n",
       "      <td>Livingston</td>\n",
       "      <td>TX</td>\n",
       "      <td>USA</td>\n",
       "      <td>30.685861</td>\n",
       "      <td>-95.017928</td>\n",
       "    </tr>\n",
       "    <tr>\n",
       "      <th>2</th>\n",
       "      <td>00V</td>\n",
       "      <td>Meadow Lake</td>\n",
       "      <td>Colorado Springs</td>\n",
       "      <td>CO</td>\n",
       "      <td>USA</td>\n",
       "      <td>38.945749</td>\n",
       "      <td>-104.569893</td>\n",
       "    </tr>\n",
       "    <tr>\n",
       "      <th>3</th>\n",
       "      <td>01G</td>\n",
       "      <td>Perry-Warsaw</td>\n",
       "      <td>Perry</td>\n",
       "      <td>NY</td>\n",
       "      <td>USA</td>\n",
       "      <td>42.741347</td>\n",
       "      <td>-78.052081</td>\n",
       "    </tr>\n",
       "    <tr>\n",
       "      <th>4</th>\n",
       "      <td>01J</td>\n",
       "      <td>Hilliard Airpark</td>\n",
       "      <td>Hilliard</td>\n",
       "      <td>FL</td>\n",
       "      <td>USA</td>\n",
       "      <td>30.688012</td>\n",
       "      <td>-81.905944</td>\n",
       "    </tr>\n",
       "  </tbody>\n",
       "</table>\n",
       "</div>"
      ],
      "text/plain": [
       "  iata               airport              city state country        lat  \\\n",
       "0  00M              Thigpen        Bay Springs    MS     USA  31.953765   \n",
       "1  00R  Livingston Municipal        Livingston    TX     USA  30.685861   \n",
       "2  00V           Meadow Lake  Colorado Springs    CO     USA  38.945749   \n",
       "3  01G          Perry-Warsaw             Perry    NY     USA  42.741347   \n",
       "4  01J      Hilliard Airpark          Hilliard    FL     USA  30.688012   \n",
       "\n",
       "         long  \n",
       "0  -89.234505  \n",
       "1  -95.017928  \n",
       "2 -104.569893  \n",
       "3  -78.052081  \n",
       "4  -81.905944  "
      ]
     },
     "execution_count": 6,
     "metadata": {},
     "output_type": "execute_result"
    }
   ],
   "source": [
    "myDF.head()"
   ]
  },
  {
   "cell_type": "markdown",
   "id": "fc601975-35ed-4680-a4e1-0273ee3cc047",
   "metadata": {},
   "source": [
    "## Question 2"
   ]
  },
  {
   "cell_type": "markdown",
   "id": "14dc22d4-ddc3-41cc-a91a-cb0025bc0c80",
   "metadata": {},
   "source": [
    "***Using the seminar kernel:***"
   ]
  },
  {
   "cell_type": "code",
   "execution_count": 7,
   "id": "0de07ccc-c002-4024-b229-b0b6dda832b5",
   "metadata": {},
   "outputs": [],
   "source": [
    "# We need to start each cell with \"%%R\" so that Jupyter knows that we are using the R language for that cell.\n",
    "# Then we can code as normal in R\n",
    "# Here, we are reading the dataset and saving it as \"myDF\"\n",
    "\n",
    "# I'm aware the normal convention for R is to use \"->\" when assigning values. I'm used to using Python, which uses \"=\"\n",
    "# and since R accomodates its use as well, I'll continue to use \"=\". This is a personal preference since I find it easier to read code this way."
   ]
  },
  {
   "cell_type": "code",
   "execution_count": 8,
   "id": "a16336a1-1ef0-41e8-bc7c-49387db27497",
   "metadata": {},
   "outputs": [],
   "source": [
    "%%R\n",
    "myDF = read.csv(\"/anvil/projects/tdm/data/flights/subset/airports.csv\")"
   ]
  },
  {
   "cell_type": "code",
   "execution_count": 9,
   "id": "36e293e6-ffdc-4448-a969-81c1e4a56e00",
   "metadata": {},
   "outputs": [],
   "source": [
    "# As before, we view the first five rows of the dataset by calling the .head() method\n",
    "# Notice that in R, the rows start with 1 instead of 0"
   ]
  },
  {
   "cell_type": "code",
   "execution_count": 10,
   "id": "ab3fb78e-93ff-4d8f-8c41-b04bcb1b742d",
   "metadata": {},
   "outputs": [
    {
     "name": "stdout",
     "output_type": "stream",
     "text": [
      "  iata              airport             city state country      lat       long\n",
      "1  00M             Thigpen       Bay Springs    MS     USA 31.95376  -89.23450\n",
      "2  00R Livingston Municipal       Livingston    TX     USA 30.68586  -95.01793\n",
      "3  00V          Meadow Lake Colorado Springs    CO     USA 38.94575 -104.56989\n",
      "4  01G         Perry-Warsaw            Perry    NY     USA 42.74135  -78.05208\n",
      "5  01J     Hilliard Airpark         Hilliard    FL     USA 30.68801  -81.90594\n",
      "6  01M    Tishomingo County          Belmont    MS     USA 34.49167  -88.20111\n"
     ]
    }
   ],
   "source": [
    "%%R\n",
    "head(myDF)"
   ]
  },
  {
   "cell_type": "markdown",
   "id": "8447439d-455a-4f4d-9cd5-8e5a6e4c8854",
   "metadata": {},
   "source": [
    "***Using seminar-r kernel:***"
   ]
  },
  {
   "cell_type": "code",
   "execution_count": 11,
   "id": "b2ed1f32-9fc1-4c60-8370-912603dde92f",
   "metadata": {},
   "outputs": [],
   "source": [
    "# Using this kernel means Jupyter already knows we are using the R language, so we can start coding in R without anything preamble.\n",
    "# This code accomplishes the same tasks as the first part of question 2, but I've put both commands into the same cell"
   ]
  },
  {
   "cell_type": "code",
   "execution_count": 1,
   "id": "71a673e0-c47c-4c96-b8c5-e05bd6acd94f",
   "metadata": {},
   "outputs": [
    {
     "data": {
      "text/html": [
       "<table class=\"dataframe\">\n",
       "<caption>A data.frame: 6 x 7</caption>\n",
       "<thead>\n",
       "\t<tr><th></th><th scope=col>iata</th><th scope=col>airport</th><th scope=col>city</th><th scope=col>state</th><th scope=col>country</th><th scope=col>lat</th><th scope=col>long</th></tr>\n",
       "\t<tr><th></th><th scope=col>&lt;chr&gt;</th><th scope=col>&lt;chr&gt;</th><th scope=col>&lt;chr&gt;</th><th scope=col>&lt;chr&gt;</th><th scope=col>&lt;chr&gt;</th><th scope=col>&lt;dbl&gt;</th><th scope=col>&lt;dbl&gt;</th></tr>\n",
       "</thead>\n",
       "<tbody>\n",
       "\t<tr><th scope=row>1</th><td>00M</td><td>Thigpen             </td><td>Bay Springs     </td><td>MS</td><td>USA</td><td>31.95376</td><td> -89.23450</td></tr>\n",
       "\t<tr><th scope=row>2</th><td>00R</td><td>Livingston Municipal</td><td>Livingston      </td><td>TX</td><td>USA</td><td>30.68586</td><td> -95.01793</td></tr>\n",
       "\t<tr><th scope=row>3</th><td>00V</td><td>Meadow Lake         </td><td>Colorado Springs</td><td>CO</td><td>USA</td><td>38.94575</td><td>-104.56989</td></tr>\n",
       "\t<tr><th scope=row>4</th><td>01G</td><td>Perry-Warsaw        </td><td>Perry           </td><td>NY</td><td>USA</td><td>42.74135</td><td> -78.05208</td></tr>\n",
       "\t<tr><th scope=row>5</th><td>01J</td><td>Hilliard Airpark    </td><td>Hilliard        </td><td>FL</td><td>USA</td><td>30.68801</td><td> -81.90594</td></tr>\n",
       "\t<tr><th scope=row>6</th><td>01M</td><td>Tishomingo County   </td><td>Belmont         </td><td>MS</td><td>USA</td><td>34.49167</td><td> -88.20111</td></tr>\n",
       "</tbody>\n",
       "</table>\n"
      ],
      "text/latex": [
       "A data.frame: 6 x 7\n",
       "\\begin{tabular}{r|lllllll}\n",
       "  & iata & airport & city & state & country & lat & long\\\\\n",
       "  & <chr> & <chr> & <chr> & <chr> & <chr> & <dbl> & <dbl>\\\\\n",
       "\\hline\n",
       "\t1 & 00M & Thigpen              & Bay Springs      & MS & USA & 31.95376 &  -89.23450\\\\\n",
       "\t2 & 00R & Livingston Municipal & Livingston       & TX & USA & 30.68586 &  -95.01793\\\\\n",
       "\t3 & 00V & Meadow Lake          & Colorado Springs & CO & USA & 38.94575 & -104.56989\\\\\n",
       "\t4 & 01G & Perry-Warsaw         & Perry            & NY & USA & 42.74135 &  -78.05208\\\\\n",
       "\t5 & 01J & Hilliard Airpark     & Hilliard         & FL & USA & 30.68801 &  -81.90594\\\\\n",
       "\t6 & 01M & Tishomingo County    & Belmont          & MS & USA & 34.49167 &  -88.20111\\\\\n",
       "\\end{tabular}\n"
      ],
      "text/markdown": [
       "\n",
       "A data.frame: 6 x 7\n",
       "\n",
       "| <!--/--> | iata &lt;chr&gt; | airport &lt;chr&gt; | city &lt;chr&gt; | state &lt;chr&gt; | country &lt;chr&gt; | lat &lt;dbl&gt; | long &lt;dbl&gt; |\n",
       "|---|---|---|---|---|---|---|---|\n",
       "| 1 | 00M | Thigpen              | Bay Springs      | MS | USA | 31.95376 |  -89.23450 |\n",
       "| 2 | 00R | Livingston Municipal | Livingston       | TX | USA | 30.68586 |  -95.01793 |\n",
       "| 3 | 00V | Meadow Lake          | Colorado Springs | CO | USA | 38.94575 | -104.56989 |\n",
       "| 4 | 01G | Perry-Warsaw         | Perry            | NY | USA | 42.74135 |  -78.05208 |\n",
       "| 5 | 01J | Hilliard Airpark     | Hilliard         | FL | USA | 30.68801 |  -81.90594 |\n",
       "| 6 | 01M | Tishomingo County    | Belmont          | MS | USA | 34.49167 |  -88.20111 |\n",
       "\n"
      ],
      "text/plain": [
       "  iata airport              city             state country lat      long      \n",
       "1 00M  Thigpen              Bay Springs      MS    USA     31.95376  -89.23450\n",
       "2 00R  Livingston Municipal Livingston       TX    USA     30.68586  -95.01793\n",
       "3 00V  Meadow Lake          Colorado Springs CO    USA     38.94575 -104.56989\n",
       "4 01G  Perry-Warsaw         Perry            NY    USA     42.74135  -78.05208\n",
       "5 01J  Hilliard Airpark     Hilliard         FL    USA     30.68801  -81.90594\n",
       "6 01M  Tishomingo County    Belmont          MS    USA     34.49167  -88.20111"
      ]
     },
     "metadata": {},
     "output_type": "display_data"
    }
   ],
   "source": [
    "myDF = read.csv(\"/anvil/projects/tdm/data/flights/subset/airports.csv\")\n",
    "head(myDF)"
   ]
  },
  {
   "cell_type": "code",
   "execution_count": null,
   "id": "31bfe69f-893e-4f3a-a8eb-b2d667bcb5ab",
   "metadata": {},
   "outputs": [],
   "source": [
    "# This has a neater output than when we used the seminar kernel and \"%%R\". Now it looks like the ourput from the first question where we used Python.\n",
    "# Since the row numbering starts at 1 (and not 0), we know this is output from R code and not Python.\n",
    "# (We also know this because that's what the seminar-r kernel uses.)"
   ]
  },
  {
   "cell_type": "markdown",
   "id": "492a78d8-8eb7-413c-8ffe-da59e4749060",
   "metadata": {},
   "source": [
    "## Question 3"
   ]
  },
  {
   "cell_type": "markdown",
   "id": "47c6229f-35f7-400c-8366-c442baa5cf47",
   "metadata": {},
   "source": [
    "***Since the output looks nicer while using R, I'm going to continue using the seminar-r kernel for the rest of this project***"
   ]
  },
  {
   "cell_type": "code",
   "execution_count": null,
   "id": "0960302a-66cc-4cfd-abbb-e6adcf87512b",
   "metadata": {},
   "outputs": [],
   "source": [
    "# Using the table function will show us the list of all the states and the number of airports they have:\n",
    "# We specify we are interested in the \"state\" data by using the dollar sign"
   ]
  },
  {
   "cell_type": "code",
   "execution_count": 3,
   "id": "45efdb4a-f64f-4e8e-a6ab-777a24a84d0c",
   "metadata": {},
   "outputs": [
    {
     "data": {
      "text/plain": [
       "\n",
       " AK  AL  AR  AS  AZ  CA  CO  CQ  CT  DC  DE  FL  GA  GU  HI  IA  ID  IL  IN  KS \n",
       "263  73  74   3  59 205  49   4  15   1   5 100  97   1  16  78  37  88  65  78 \n",
       " KY  LA  MA  MD  ME  MI  MN  MO  MS  MT  NC  ND  NE  NH  NJ  NM  NV  NY  OH  OK \n",
       " 50  55  30  18  34  94  89  74  72  71  72  52  73  14  35  51  32  97 100 102 \n",
       " OR  PA  PR  RI  SC  SD  TN  TX  UT  VA  VI  VT  WA  WI  WV  WY \n",
       " 57  71  11   6  52  57  70 209  35  47   5  13  65  84  24  32 "
      ]
     },
     "metadata": {},
     "output_type": "display_data"
    }
   ],
   "source": [
    "table(myDF$state)"
   ]
  },
  {
   "cell_type": "code",
   "execution_count": null,
   "id": "cbe74950-9afd-4c30-941f-56506d205b4f",
   "metadata": {},
   "outputs": [],
   "source": [
    "# It looks like Alaska (AK) has the most airports, but it's hard to tell because the table isn't sorted by number of airports\n",
    "# We need to add the sort method to show that:"
   ]
  },
  {
   "cell_type": "code",
   "execution_count": 5,
   "id": "47576c4a-8b49-42f6-a002-55e125034aaa",
   "metadata": {},
   "outputs": [
    {
     "data": {
      "text/plain": [
       "\n",
       " DC  GU  AS  CQ  DE  VI  RI  PR  VT  NH  CT  HI  MD  WV  MA  NV  WY  ME  NJ  UT \n",
       "  1   1   3   4   5   5   6  11  13  14  15  16  18  24  30  32  32  34  35  35 \n",
       " ID  VA  CO  KY  NM  ND  SC  LA  OR  SD  AZ  IN  WA  TN  MT  PA  MS  NC  AL  NE \n",
       " 37  47  49  50  51  52  52  55  57  57  59  65  65  70  71  71  72  72  73  73 \n",
       " AR  MO  IA  KS  WI  IL  MN  MI  GA  NY  FL  OH  OK  CA  TX  AK \n",
       " 74  74  78  78  84  88  89  94  97  97 100 100 102 205 209 263 "
      ]
     },
     "metadata": {},
     "output_type": "display_data"
    }
   ],
   "source": [
    "sort(table(myDF$state))"
   ]
  },
  {
   "cell_type": "code",
   "execution_count": null,
   "id": "8e0e7ae1-c409-4133-98e0-7df3c26dc933",
   "metadata": {},
   "outputs": [],
   "source": [
    "# Alaska is the last state in this table, so it does indeed have the most airports (263)"
   ]
  },
  {
   "cell_type": "markdown",
   "id": "da22f29c-d245-4d2b-9fc1-ca14cb6087d9",
   "metadata": {},
   "source": [
    "## Question 4"
   ]
  },
  {
   "cell_type": "code",
   "execution_count": null,
   "id": "8ccbf08a-760b-428a-96d2-5e4ae7ba1857",
   "metadata": {},
   "outputs": [],
   "source": [
    "# Saving the new datasets and giving them names related to what data they have (prod for products and rev for reviews)\n",
    "# I created new variables for each data set so I can work with each one individually, without overwritting my previous data set\n",
    "# (in case I want to go back and work on a previous data set)"
   ]
  },
  {
   "cell_type": "code",
   "execution_count": 7,
   "id": "8cffc767-d1c8-4d64-b7dc-f0d2ee8a80d1",
   "metadata": {},
   "outputs": [],
   "source": [
    "ice_cream_prod = read.csv(\"/anvil/projects/tdm/data/icecream/combined/products.csv\")\n",
    "ice_cream_rev = read.csv(\"/anvil/projects/tdm/data/icecream/combined/reviews.csv\")"
   ]
  },
  {
   "cell_type": "code",
   "execution_count": null,
   "id": "8531d265-6384-46d2-b7d0-c3dc7b33f7af",
   "metadata": {},
   "outputs": [],
   "source": [
    "# We can find out how many times each brand appears in the products data set by using the table function and specifying \"brand\""
   ]
  },
  {
   "cell_type": "code",
   "execution_count": 8,
   "id": "e8692078-956d-41da-b819-23d4a55ab413",
   "metadata": {},
   "outputs": [
    {
     "data": {
      "text/plain": [
       "\n",
       "     bj breyers      hd talenti \n",
       "     57      69      70      45 "
      ]
     },
     "metadata": {},
     "output_type": "display_data"
    }
   ],
   "source": [
    "table(ice_cream_prod$brand)"
   ]
  },
  {
   "cell_type": "code",
   "execution_count": null,
   "id": "2977e990-e7e2-4efc-ac54-8a322488b356",
   "metadata": {},
   "outputs": [],
   "source": [
    "# We can do the same thing with the reviews data to see how many times each brand appears there:"
   ]
  },
  {
   "cell_type": "code",
   "execution_count": 9,
   "id": "a2ff1913-b450-4463-9a12-d5afc4f80eba",
   "metadata": {},
   "outputs": [
    {
     "data": {
      "text/plain": [
       "\n",
       "     bj breyers      hd talenti \n",
       "   7943    5007    4655    4069 "
      ]
     },
     "metadata": {},
     "output_type": "display_data"
    }
   ],
   "source": [
    "table(ice_cream_rev$brand)"
   ]
  },
  {
   "cell_type": "code",
   "execution_count": null,
   "id": "807353a2-1ae2-4290-af09-cf9d24b4d475",
   "metadata": {},
   "outputs": [],
   "source": [
    "# This data set is a lot bigger! Each brand appears many more times. This is probably there are multiple reviews for each product\n",
    "# and there is a new data entry for each review."
   ]
  },
  {
   "cell_type": "markdown",
   "id": "88c9cdac-3e92-498f-83fa-e089bfc44ac8",
   "metadata": {},
   "source": [
    "## Question 5"
   ]
  },
  {
   "cell_type": "code",
   "execution_count": null,
   "id": "d370d7c9-06db-42b9-b75f-240481a5c491",
   "metadata": {},
   "outputs": [],
   "source": [
    "# I'm glad I saved each variable independently! I can continue with the exercise without doing any extra work\n",
    "# (I didn't actually read ahead, but I did suspect we weren't done with the new data!)\n",
    "\n",
    "# To visualize the data, we use the plot function. It functions they same way as the sort function we used earlier\n",
    "# First, we'll look at the product data set:"
   ]
  },
  {
   "cell_type": "code",
   "execution_count": 11,
   "id": "7f619984-a649-4036-8ee8-b99b759e19dc",
   "metadata": {},
   "outputs": [
    {
     "data": {
      "image/png": "[encoded data removed]",
      "text/plain": [
       "plot without title"
      ]
     },
     "metadata": {
      "image/png": {
       "height": 420,
       "width": 420
      }
     },
     "output_type": "display_data"
    }
   ],
   "source": [
    "plot(table(ice_cream_prod$brand))"
   ]
  },
  {
   "cell_type": "code",
   "execution_count": null,
   "id": "43b1105d-2773-447f-a3c3-b87e3700eb1a",
   "metadata": {},
   "outputs": [],
   "source": [
    "# Now we do the same thing for the reviews data set:"
   ]
  },
  {
   "cell_type": "code",
   "execution_count": 12,
   "id": "8caefba1-4d6e-4856-a6fc-ffd2d2ee558a",
   "metadata": {},
   "outputs": [
    {
     "data": {
      "image/png": "[encoded data removed]",
      "text/plain": [
       "plot without title"
      ]
     },
     "metadata": {
      "image/png": {
       "height": 420,
       "width": 420
      }
     },
     "output_type": "display_data"
    }
   ],
   "source": [
    "plot(table(ice_cream_rev$brand))"
   ]
  },
  {
   "cell_type": "code",
   "execution_count": null,
   "id": "b1f5c743-a92f-4251-afb6-6ef686cb4aef",
   "metadata": {},
   "outputs": [],
   "source": [
    "# As expected, the Y axis of the reviews data set plot has a much higher number than the products one\n",
    "# These plots are showing the same data we saw in the tables, but as a bar chart."
   ]
  },
  {
   "cell_type": "markdown",
   "id": "f76442d6-d02e-4f26-b9d6-c3183e1d6929",
   "metadata": {},
   "source": [
    "## Pledge\n",
    "\n",
    "By submitting this work I hereby pledge that this is my own, personal work. I've acknowledged in the designated place at the top of this file all sources that I used to complete said work, including but not limited to: online resources, books, and electronic communications. I've noted all collaboration with fellow students and/or TA's. I did not copy or plagiarize another's work.\n",
    "\n",
    "> As a Boilermaker pursuing academic excellence, I pledge to be honest and true in all that I do. Accountable together – We are Purdue."
   ]
  }
 ],
 "metadata": {
  "kernelspec": {
   "display_name": "seminar-r",
   "language": "R",
   "name": "seminar-r"
  },
  "language_info": {
   "codemirror_mode": "r",
   "file_extension": ".r",
   "mimetype": "text/x-r-source",
   "name": "R",
   "pygments_lexer": "r",
   "version": "4.3.1"
  }
 },
 "nbformat": 4,
 "nbformat_minor": 5
}
