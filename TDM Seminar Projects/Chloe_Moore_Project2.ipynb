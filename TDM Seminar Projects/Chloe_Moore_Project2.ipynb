{
 "cells": [
  {
   "cell_type": "markdown",
   "id": "be02a957-7133-4d02-818e-fedeb3cecb05",
   "metadata": {},
   "source": [
    "# Project 2 -- Chloe Moore"
   ]
  },
  {
   "cell_type": "markdown",
   "id": "a1228853-dd19-4ab2-89e0-0394d7d72de3",
   "metadata": {},
   "source": [
    "**TA Help:**\n",
    "    \n",
    "**Collaboration:**"
   ]
  },
  {
   "cell_type": "markdown",
   "id": "6180e742-8e39-4698-98ff-5b00c8cf8ea0",
   "metadata": {},
   "source": [
    "## Question 1"
   ]
  },
  {
   "cell_type": "code",
   "execution_count": 1,
   "id": "49445606-d363-41b4-b479-e319a9a84c01",
   "metadata": {},
   "outputs": [],
   "source": [
    "myDF = read.csv(\"/anvil/projects/tdm/data/olympics/athlete_events.csv\")\n",
    "myDF_year = table(myDF$Year)"
   ]
  },
  {
   "cell_type": "markdown",
   "id": "51deb40e-f1c9-4826-898d-59a84a0d08e6",
   "metadata": {},
   "source": [
    "Repeating steps from the first project to save a dataset under a variable name (myDF).\n",
    "I've gone ahead and saved the table with the year data as a new variable (myDF_year), so it will be easier to access that table later."
   ]
  },
  {
   "cell_type": "code",
   "execution_count": 2,
   "id": "ed3eafb4-dc2c-49c6-b509-0211f4a5fd9c",
   "metadata": {},
   "outputs": [
    {
     "data": {
      "text/plain": [
       "\n",
       " 1896  1904  1906  1900  1908  1994  1932  1998  1912  2002  1920  2006  2010 \n",
       "  380  1301  1733  1936  3101  3160  3321  3605  4040  4109  4292  4382  4402 \n",
       " 2014  1928  1924  1956  1936  1948  1980  1960  1952  1964  1968  1976  1984 \n",
       " 4891  5574  5693  6434  7401  7480  8937  9235  9358  9480 10479 10502 11588 \n",
       " 1972  2012  2004  2008  2016  1996  2000  1988  1992 \n",
       "11959 12920 13443 13602 13688 13780 13821 14676 16413 "
      ]
     },
     "metadata": {},
     "output_type": "display_data"
    }
   ],
   "source": [
    "sort(myDF_year)"
   ]
  },
  {
   "cell_type": "markdown",
   "id": "b456e57c-4a12-464b-999a-ef2df5af80c1",
   "metadata": {},
   "source": [
    "Displaying the table showing the number of athlete events that took place in each year.\n",
    "It's already been sorted because I used the new myDF_year variable I created earlier."
   ]
  },
  {
   "cell_type": "code",
   "execution_count": 3,
   "id": "eacd9237-c4eb-4cc9-b8cf-e0a57f976cfb",
   "metadata": {},
   "outputs": [
    {
     "data": {
      "image/png": "[encoded data removed]",
      "text/plain": [
       "plot without title"
      ]
     },
     "metadata": {
      "image/png": {
       "height": 420,
       "width": 420
      }
     },
     "output_type": "display_data"
    }
   ],
   "source": [
    "plot(myDF_year)"
   ]
  },
  {
   "cell_type": "markdown",
   "id": "0a6bc8cd-aff3-4f81-81f5-6cc0db8c8679",
   "metadata": {},
   "source": [
    "Displaying the plot of the myDF_year table. Since we're using the same data table again, I'm glad I have a shorter variable name I can use.\n",
    "The two world wars are clearly visible as missing bars. We can also see when the Olympics split into the summer and winter games, as they occur twice as frequently after 1994. I think the years 1956 and 1980 are particularly interesting because they are much lower than their surrounding years. I looked up the host cities for those years, to see if that could shed some light on why that is. 1980 was hosted by Moscow, and I know many countries boycotted these games due to the Soviet military campaign in Afghanistan. I had to do some research about the 1956 Olympics, but it turns out that was another year that many countries boycotted. The reasons for this one are more varied and generally related to international events, rather than to make a statement against the host cities. Another interesting thing to note is that after the games split, one \"set\" remained much higher than the other. This indicates that one of the games (I think it is the summer ones) have many more events than the other (the winter ones)."
   ]
  },
  {
   "cell_type": "markdown",
   "id": "fc601975-35ed-4680-a4e1-0273ee3cc047",
   "metadata": {},
   "source": [
    "## Question 2"
   ]
  },
  {
   "cell_type": "code",
   "execution_count": 4,
   "id": "a16336a1-1ef0-41e8-bc7c-49387db27497",
   "metadata": {},
   "outputs": [
    {
     "data": {
      "text/plain": [
       "\n",
       "  CAN   GER   ITA   GBR   FRA   USA \n",
       " 9733  9830 10715 12256 12758 18853 "
      ]
     },
     "metadata": {},
     "output_type": "display_data"
    }
   ],
   "source": [
    "myDF_NOC = sort(table(myDF$NOC))\n",
    "tail(myDF_NOC)"
   ]
  },
  {
   "cell_type": "markdown",
   "id": "14dc22d4-ddc3-41cc-a91a-cb0025bc0c80",
   "metadata": {},
   "source": [
    "18853 for the USA appears the most often in the NOC column. We know this because it's the last entry in the sorted table. Originally I had the entire table displayed, but after I read the hint in the instructions I added the tail() method for a neater output."
   ]
  },
  {
   "cell_type": "code",
   "execution_count": 5,
   "id": "fccd3e69-7d45-435e-8f99-d8a65af24979",
   "metadata": {},
   "outputs": [
    {
     "data": {
      "text/plain": [
       "\n",
       "Jean Lucien Nicolas Jacoby                Takashi Ono \n",
       "                        32                         33 \n",
       "       Ioannis Theofilakis      Joseph \"Josy\" Stoffel \n",
       "                        36                         38 \n",
       "  Heikki Ilmari Savolainen       Robert Tait McKenzie \n",
       "                        39                         58 "
      ]
     },
     "metadata": {},
     "output_type": "display_data"
    }
   ],
   "source": [
    "myDF_name = sort(table(myDF$Name))\n",
    "tail(myDF_name)"
   ]
  },
  {
   "cell_type": "markdown",
   "id": "5deefe5f-edfe-4d01-bf37-7eb41cda76b1",
   "metadata": {},
   "source": [
    "The name Robert Tait McKenzie appears the most times (and by quite a margin!). A table of this size definitely requires the use the the tail() method, since it's only a tiny bit of the data we are interested in out of a huge table."
   ]
  },
  {
   "cell_type": "markdown",
   "id": "8e586edd-ff26-4ce2-8f6b-2424b26f2929",
   "metadata": {},
   "source": [
    "## Question 3"
   ]
  },
  {
   "cell_type": "code",
   "execution_count": 6,
   "id": "bbe0f40d-9655-4653-9ca8-886bdb61cb91",
   "metadata": {},
   "outputs": [
    {
     "data": {
      "text/html": [
       "<table class=\"dataframe\">\n",
       "<caption>A data.frame: 6 x 15</caption>\n",
       "<thead>\n",
       "\t<tr><th></th><th scope=col>ID</th><th scope=col>Name</th><th scope=col>Sex</th><th scope=col>Age</th><th scope=col>Height</th><th scope=col>Weight</th><th scope=col>Team</th><th scope=col>NOC</th><th scope=col>Games</th><th scope=col>Year</th><th scope=col>Season</th><th scope=col>City</th><th scope=col>Sport</th><th scope=col>Event</th><th scope=col>Medal</th></tr>\n",
       "\t<tr><th></th><th scope=col>&lt;int&gt;</th><th scope=col>&lt;chr&gt;</th><th scope=col>&lt;chr&gt;</th><th scope=col>&lt;int&gt;</th><th scope=col>&lt;int&gt;</th><th scope=col>&lt;dbl&gt;</th><th scope=col>&lt;chr&gt;</th><th scope=col>&lt;chr&gt;</th><th scope=col>&lt;chr&gt;</th><th scope=col>&lt;int&gt;</th><th scope=col>&lt;chr&gt;</th><th scope=col>&lt;chr&gt;</th><th scope=col>&lt;chr&gt;</th><th scope=col>&lt;chr&gt;</th><th scope=col>&lt;chr&gt;</th></tr>\n",
       "</thead>\n",
       "<tbody>\n",
       "\t<tr><th scope=row>1</th><td>1</td><td>A Dijiang               </td><td>M</td><td>24</td><td>180</td><td>80</td><td>China         </td><td>CHN</td><td>1992 Summer</td><td>1992</td><td>Summer</td><td>Barcelona</td><td>Basketball   </td><td>Basketball Men's Basketball       </td><td>NA  </td></tr>\n",
       "\t<tr><th scope=row>2</th><td>2</td><td>A Lamusi                </td><td>M</td><td>23</td><td>170</td><td>60</td><td>China         </td><td>CHN</td><td>2012 Summer</td><td>2012</td><td>Summer</td><td>London   </td><td>Judo         </td><td>Judo Men's Extra-Lightweight      </td><td>NA  </td></tr>\n",
       "\t<tr><th scope=row>3</th><td>3</td><td>Gunnar Nielsen Aaby     </td><td>M</td><td>24</td><td> NA</td><td>NA</td><td>Denmark       </td><td>DEN</td><td>1920 Summer</td><td>1920</td><td>Summer</td><td>Antwerpen</td><td>Football     </td><td>Football Men's Football           </td><td>NA  </td></tr>\n",
       "\t<tr><th scope=row>4</th><td>4</td><td>Edgar Lindenau Aabye    </td><td>M</td><td>34</td><td> NA</td><td>NA</td><td>Denmark/Sweden</td><td>DEN</td><td>1900 Summer</td><td>1900</td><td>Summer</td><td>Paris    </td><td>Tug-Of-War   </td><td>Tug-Of-War Men's Tug-Of-War       </td><td>Gold</td></tr>\n",
       "\t<tr><th scope=row>5</th><td>5</td><td>Christine Jacoba Aaftink</td><td>F</td><td>21</td><td>185</td><td>82</td><td>Netherlands   </td><td>NED</td><td>1988 Winter</td><td>1988</td><td>Winter</td><td>Calgary  </td><td>Speed Skating</td><td>Speed Skating Women's 500 metres  </td><td>NA  </td></tr>\n",
       "\t<tr><th scope=row>6</th><td>5</td><td>Christine Jacoba Aaftink</td><td>F</td><td>21</td><td>185</td><td>82</td><td>Netherlands   </td><td>NED</td><td>1988 Winter</td><td>1988</td><td>Winter</td><td>Calgary  </td><td>Speed Skating</td><td>Speed Skating Women's 1,000 metres</td><td>NA  </td></tr>\n",
       "</tbody>\n",
       "</table>\n"
      ],
      "text/latex": [
       "A data.frame: 6 x 15\n",
       "\\begin{tabular}{r|lllllllllllllll}\n",
       "  & ID & Name & Sex & Age & Height & Weight & Team & NOC & Games & Year & Season & City & Sport & Event & Medal\\\\\n",
       "  & <int> & <chr> & <chr> & <int> & <int> & <dbl> & <chr> & <chr> & <chr> & <int> & <chr> & <chr> & <chr> & <chr> & <chr>\\\\\n",
       "\\hline\n",
       "\t1 & 1 & A Dijiang                & M & 24 & 180 & 80 & China          & CHN & 1992 Summer & 1992 & Summer & Barcelona & Basketball    & Basketball Men's Basketball        & NA  \\\\\n",
       "\t2 & 2 & A Lamusi                 & M & 23 & 170 & 60 & China          & CHN & 2012 Summer & 2012 & Summer & London    & Judo          & Judo Men's Extra-Lightweight       & NA  \\\\\n",
       "\t3 & 3 & Gunnar Nielsen Aaby      & M & 24 &  NA & NA & Denmark        & DEN & 1920 Summer & 1920 & Summer & Antwerpen & Football      & Football Men's Football            & NA  \\\\\n",
       "\t4 & 4 & Edgar Lindenau Aabye     & M & 34 &  NA & NA & Denmark/Sweden & DEN & 1900 Summer & 1900 & Summer & Paris     & Tug-Of-War    & Tug-Of-War Men's Tug-Of-War        & Gold\\\\\n",
       "\t5 & 5 & Christine Jacoba Aaftink & F & 21 & 185 & 82 & Netherlands    & NED & 1988 Winter & 1988 & Winter & Calgary   & Speed Skating & Speed Skating Women's 500 metres   & NA  \\\\\n",
       "\t6 & 5 & Christine Jacoba Aaftink & F & 21 & 185 & 82 & Netherlands    & NED & 1988 Winter & 1988 & Winter & Calgary   & Speed Skating & Speed Skating Women's 1,000 metres & NA  \\\\\n",
       "\\end{tabular}\n"
      ],
      "text/markdown": [
       "\n",
       "A data.frame: 6 x 15\n",
       "\n",
       "| <!--/--> | ID &lt;int&gt; | Name &lt;chr&gt; | Sex &lt;chr&gt; | Age &lt;int&gt; | Height &lt;int&gt; | Weight &lt;dbl&gt; | Team &lt;chr&gt; | NOC &lt;chr&gt; | Games &lt;chr&gt; | Year &lt;int&gt; | Season &lt;chr&gt; | City &lt;chr&gt; | Sport &lt;chr&gt; | Event &lt;chr&gt; | Medal &lt;chr&gt; |\n",
       "|---|---|---|---|---|---|---|---|---|---|---|---|---|---|---|---|\n",
       "| 1 | 1 | A Dijiang                | M | 24 | 180 | 80 | China          | CHN | 1992 Summer | 1992 | Summer | Barcelona | Basketball    | Basketball Men's Basketball        | NA   |\n",
       "| 2 | 2 | A Lamusi                 | M | 23 | 170 | 60 | China          | CHN | 2012 Summer | 2012 | Summer | London    | Judo          | Judo Men's Extra-Lightweight       | NA   |\n",
       "| 3 | 3 | Gunnar Nielsen Aaby      | M | 24 |  NA | NA | Denmark        | DEN | 1920 Summer | 1920 | Summer | Antwerpen | Football      | Football Men's Football            | NA   |\n",
       "| 4 | 4 | Edgar Lindenau Aabye     | M | 34 |  NA | NA | Denmark/Sweden | DEN | 1900 Summer | 1900 | Summer | Paris     | Tug-Of-War    | Tug-Of-War Men's Tug-Of-War        | Gold |\n",
       "| 5 | 5 | Christine Jacoba Aaftink | F | 21 | 185 | 82 | Netherlands    | NED | 1988 Winter | 1988 | Winter | Calgary   | Speed Skating | Speed Skating Women's 500 metres   | NA   |\n",
       "| 6 | 5 | Christine Jacoba Aaftink | F | 21 | 185 | 82 | Netherlands    | NED | 1988 Winter | 1988 | Winter | Calgary   | Speed Skating | Speed Skating Women's 1,000 metres | NA   |\n",
       "\n"
      ],
      "text/plain": [
       "  ID Name                     Sex Age Height Weight Team           NOC\n",
       "1 1  A Dijiang                M   24  180    80     China          CHN\n",
       "2 2  A Lamusi                 M   23  170    60     China          CHN\n",
       "3 3  Gunnar Nielsen Aaby      M   24   NA    NA     Denmark        DEN\n",
       "4 4  Edgar Lindenau Aabye     M   34   NA    NA     Denmark/Sweden DEN\n",
       "5 5  Christine Jacoba Aaftink F   21  185    82     Netherlands    NED\n",
       "6 5  Christine Jacoba Aaftink F   21  185    82     Netherlands    NED\n",
       "  Games       Year Season City      Sport        \n",
       "1 1992 Summer 1992 Summer Barcelona Basketball   \n",
       "2 2012 Summer 2012 Summer London    Judo         \n",
       "3 1920 Summer 1920 Summer Antwerpen Football     \n",
       "4 1900 Summer 1900 Summer Paris     Tug-Of-War   \n",
       "5 1988 Winter 1988 Winter Calgary   Speed Skating\n",
       "6 1988 Winter 1988 Winter Calgary   Speed Skating\n",
       "  Event                              Medal\n",
       "1 Basketball Men's Basketball        NA   \n",
       "2 Judo Men's Extra-Lightweight       NA   \n",
       "3 Football Men's Football            NA   \n",
       "4 Tug-Of-War Men's Tug-Of-War        Gold \n",
       "5 Speed Skating Women's 500 metres   NA   \n",
       "6 Speed Skating Women's 1,000 metres NA   "
      ]
     },
     "metadata": {},
     "output_type": "display_data"
    }
   ],
   "source": [
    "head(myDF)"
   ]
  },
  {
   "cell_type": "markdown",
   "id": "47c6229f-35f7-400c-8366-c442baa5cf47",
   "metadata": {},
   "source": [
    "Just put this here so I could see what the question was talking about."
   ]
  },
  {
   "cell_type": "code",
   "execution_count": 7,
   "id": "a2ec034d-f9e1-4920-884d-0813bae7fc98",
   "metadata": {},
   "outputs": [
    {
     "data": {
      "text/html": [
       "<strong>Denmark:</strong> 3424"
      ],
      "text/latex": [
       "\\textbf{Denmark:} 3424"
      ],
      "text/markdown": [
       "**Denmark:** 3424"
      ],
      "text/plain": [
       "Denmark \n",
       "   3424 "
      ]
     },
     "metadata": {},
     "output_type": "display_data"
    }
   ],
   "source": [
    "myDF_team = myDF$Team\n",
    "table(myDF_team)[\"Denmark\"]"
   ]
  },
  {
   "cell_type": "markdown",
   "id": "3b4d2228-1cb6-470d-92bf-8bf837b95645",
   "metadata": {},
   "source": [
    "From the previous table, I get the name of the column I want, \"Team\". I saved a table of the teams so I could access it without extra typing later. Except this time I left it as a data frame, instead of making it a table. Since this question requires working within the rows (as opposed to just displaying data), I need it as a data frame. To find out how many times \"Denmark\" exactly showed up, I used square brackets. Since it will only count rows that match the string in the square brackets exactly, we know there are 3424 rows with \"Denmark\" as the team name."
   ]
  },
  {
   "cell_type": "code",
   "execution_count": 8,
   "id": "ca0dcdf6-21bf-41a8-b84f-f7623e91eecc",
   "metadata": {},
   "outputs": [
    {
     "data": {
      "text/html": [
       "3496"
      ],
      "text/latex": [
       "3496"
      ],
      "text/markdown": [
       "3496"
      ],
      "text/plain": [
       "[1] 3496"
      ]
     },
     "metadata": {},
     "output_type": "display_data"
    }
   ],
   "source": [
    "sum(grepl(\"Denmark\", myDF_team))"
   ]
  },
  {
   "cell_type": "markdown",
   "id": "aef01b53-0ac6-4a62-b3a5-b7e3c7078199",
   "metadata": {},
   "source": [
    "Here, grepl returns true or false values as to if \"Denmark\" is found in the teams column. By summing, we could the number of times this is true. The result (3496) is slightly higher than the number of exactly \"Denmark\", so this is a reasonable result."
   ]
  },
  {
   "cell_type": "code",
   "execution_count": 9,
   "id": "b8a6d90c-f735-4ab1-a613-8dcd468f2491",
   "metadata": {},
   "outputs": [
    {
     "data": {
      "text/plain": [
       "\n",
       "        Denmark-1         Denmark-2         Denmark-3         Denmark-4 \n",
       "               30                30                 2                 2 \n",
       "   Denmark/Sweden Miss Denmark 1964 \n",
       "                6                 2 "
      ]
     },
     "metadata": {},
     "output_type": "display_data"
    }
   ],
   "source": [
    "table(myDF_team[grepl(\"Denmark\", myDF_team) & myDF_team != \"Denmark\"])"
   ]
  },
  {
   "cell_type": "markdown",
   "id": "3ccf4cdb-4087-4d09-9d4d-758d9510b411",
   "metadata": {},
   "source": [
    "This table all the team names that include \"Denmark\" AND are NOT \"Denmark\" exactly. All of the specifications had to be inside the square brackets, so all the parameters would be considered. I needed the video for this one, since it took me a second to get my head around what the question was asking."
   ]
  },
  {
   "cell_type": "markdown",
   "id": "da22f29c-d245-4d2b-9fc1-ca14cb6087d9",
   "metadata": {},
   "source": [
    "## Question 4"
   ]
  },
  {
   "cell_type": "code",
   "execution_count": 10,
   "id": "8cffc767-d1c8-4d64-b7dc-f0d2ee8a80d1",
   "metadata": {},
   "outputs": [],
   "source": [
    "library(data.table)\n",
    "myDF <- fread(\"/anvil/projects/tdm/data/election/itcont1980.txt\", quote=\"\")\n",
    "names(myDF) <- c(\"CMTE_ID\", \"AMNDT_IND\", \"RPT_TP\", \"TRANSACTION_PGI\", \"IMAGE_NUM\", \"TRANSACTION_TP\", \"ENTITY_TP\", \"NAME\", \"CITY\", \"STATE\", \"ZIP_CODE\", \"EMPLOYER\", \"OCCUPATION\", \"TRANSACTION_DT\", \"TRANSACTION_AMT\", \"OTHER_ID\", \"TRAN_ID\", \"FILE_NUM\", \"MEMO_CD\", \"MEMO_TEXT\", \"SUB_ID\")"
   ]
  },
  {
   "cell_type": "markdown",
   "id": "0d552245-b4d6-474a-9cc9-fa7b8e674d55",
   "metadata": {},
   "source": [
    "Copied and pasted from the original question."
   ]
  },
  {
   "cell_type": "code",
   "execution_count": 11,
   "id": "3077a64c-5ecc-4799-b941-3ad36849e9ad",
   "metadata": {},
   "outputs": [
    {
     "data": {
      "text/plain": [
       "\n",
       "         FL    IL    NY    TX    CA \n",
       "12654 15576 15895 25669 34862 37069 "
      ]
     },
     "metadata": {},
     "output_type": "display_data"
    },
    {
     "data": {
      "text/plain": [
       "\n",
       "                            LUCAS, HARRY JR \n",
       "                                         46 \n",
       "                              WILLIAMS, J D \n",
       "                                         64 \n",
       "  DEMOCRATIC CONGRESSIONAL DINNER COMMITTEE \n",
       "                                         65 \n",
       "                               REPP, WARD W \n",
       "                                         89 \n",
       " AMERICAN DENTAL POLITICAL ACTION COMMITTEE \n",
       "                                         96 \n",
       "AMERICAN MEDICAL POLITICAL ACTION COMMITTEE \n",
       "                                        769 "
      ]
     },
     "metadata": {},
     "output_type": "display_data"
    }
   ],
   "source": [
    "tail(sort(table(myDF$STATE)))\n",
    "tail(sort(table(myDF$NAME)))"
   ]
  },
  {
   "cell_type": "markdown",
   "id": "ded9e927-2d3c-4f4d-8050-9d773aadd560",
   "metadata": {},
   "source": [
    "This shows us California shows up the most times in the STATE column and American Medical Political Action Committee shows us the most in NAME. Since this is a short question, I just did everything on one line for each part (name and state)."
   ]
  },
  {
   "cell_type": "markdown",
   "id": "88c9cdac-3e92-498f-83fa-e089bfc44ac8",
   "metadata": {},
   "source": [
    "## Question 5"
   ]
  },
  {
   "cell_type": "code",
   "execution_count": 12,
   "id": "d370d7c9-06db-42b9-b75f-240481a5c491",
   "metadata": {},
   "outputs": [
    {
     "data": {
      "text/plain": [
       "myDF_citystate\n",
       "    CHICAGO IL LOS ANGELES CA  WASHINGTON DC      DALLAS TX     HOUSTON TX \n",
       "          4841           5866           5890           6438          10146 \n",
       "   NEW YORK NY \n",
       "         13862 "
      ]
     },
     "metadata": {},
     "output_type": "display_data"
    }
   ],
   "source": [
    "# Getting rid of empty values\n",
    "myDF = subset(myDF, CITY!=\"\" | STATE!=\"\")\n",
    "# Pasting CITY and STATE together\n",
    "myDF_citystate = paste(myDF$CITY, myDF$STATE)\n",
    "# sorting and displaying highest counts as a table\n",
    "tail(sort(table(myDF_citystate)))"
   ]
  },
  {
   "cell_type": "markdown",
   "id": "9fbf00fb-2418-460f-ae94-2a32b0c28952",
   "metadata": {},
   "source": [
    "I tried really hard to get rid of the empty values after pasting the CITY and STATE columns together. It kept telling me it couldn't find the CITY (and presumably STATE) object. Everything worked when I removed those values first. In retrospect, it's probably better to remove them first anyways, since then those values won't bog down the paste method unnecessarily."
   ]
  },
  {
   "cell_type": "markdown",
   "id": "f76442d6-d02e-4f26-b9d6-c3183e1d6929",
   "metadata": {},
   "source": [
    "## Pledge\n",
    "\n",
    "By submitting this work I hereby pledge that this is my own, personal work. I've acknowledged in the designated place at the top of this file all sources that I used to complete said work, including but not limited to: online resources, books, and electronic communications. I've noted all collaboration with fellow students and/or TA's. I did not copy or plagiarize another's work.\n",
    "\n",
    "> As a Boilermaker pursuing academic excellence, I pledge to be honest and true in all that I do. Accountable together – We are Purdue."
   ]
  }
 ],
 "metadata": {
  "kernelspec": {
   "display_name": "seminar-r",
   "language": "R",
   "name": "seminar-r"
  },
  "language_info": {
   "codemirror_mode": "r",
   "file_extension": ".r",
   "mimetype": "text/x-r-source",
   "name": "R",
   "pygments_lexer": "r",
   "version": "4.3.1"
  }
 },
 "nbformat": 4,
 "nbformat_minor": 5
}
