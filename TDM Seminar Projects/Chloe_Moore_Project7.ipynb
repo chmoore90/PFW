{
 "cells": [
  {
   "cell_type": "markdown",
   "id": "be02a957-7133-4d02-818e-fedeb3cecb05",
   "metadata": {},
   "source": [
    "# Project 7 -- Chloe Moore"
   ]
  },
  {
   "cell_type": "markdown",
   "id": "a1228853-dd19-4ab2-89e0-0394d7d72de3",
   "metadata": {},
   "source": [
    "**TA Help:** \n",
    "    \n",
    "**Collaboration:** "
   ]
  },
  {
   "cell_type": "markdown",
   "id": "6180e742-8e39-4698-98ff-5b00c8cf8ea0",
   "metadata": {},
   "source": [
    "## Question 1"
   ]
  },
  {
   "cell_type": "code",
   "execution_count": 2,
   "id": "49445606-d363-41b4-b479-e319a9a84c01",
   "metadata": {},
   "outputs": [],
   "source": [
    "library(data.table)\n",
    "deathDF = fread(\"/anvil/projects/tdm/data/death_records/DeathRecords.csv\")"
   ]
  },
  {
   "cell_type": "code",
   "execution_count": 3,
   "id": "b231981b-c5e8-4825-9e85-356a48958398",
   "metadata": {},
   "outputs": [
    {
     "data": {
      "text/plain": [
       "\n",
       "   (0,18]   (18,25]   (25,35]   (35,55]  (55,150] (150,Inf] \n",
       "    36033     27691     49540    271181   2246155       571 "
      ]
     },
     "metadata": {},
     "output_type": "display_data"
    }
   ],
   "source": [
    "# part a\n",
    "table(cut(deathDF$Age, breaks=c(0, 18, 25, 35, 55, 150, Inf)))"
   ]
  },
  {
   "cell_type": "code",
   "execution_count": 4,
   "id": "927377c6-7ead-44ea-bc54-2c03631dba26",
   "metadata": {},
   "outputs": [
    {
     "data": {
      "text/plain": [
       "\n",
       "           young      young_adult            adult middle_age_adult \n",
       "           36033            27691            49540           271181 \n",
       "    senior_adult          unknown \n",
       "         2246155              571 "
      ]
     },
     "metadata": {},
     "output_type": "display_data"
    }
   ],
   "source": [
    "# part b\n",
    "table(cut(deathDF$Age, breaks=c(0, 18, 25, 35, 55, 150, Inf),\n",
    "      labels=c(\"young\", \"young_adult\", \"adult\", \"middle_age_adult\", \"senior_adult\", \"unknown\")))\n"
   ]
  },
  {
   "cell_type": "code",
   "execution_count": 5,
   "id": "9d240cf9-4790-4d17-ac4b-f60718f4fe57",
   "metadata": {},
   "outputs": [
    {
     "data": {
      "image/png": "[encoded data removed]",
      "text/plain": [
       "plot without title"
      ]
     },
     "metadata": {
      "image/png": {
       "height": 420,
       "width": 420
      }
     },
     "output_type": "display_data"
    }
   ],
   "source": [
    "# part c\n",
    "barplot(table(cut(deathDF$Age, breaks=c(0, 18, 25, 35, 55, 150, Inf),\n",
    "      labels=c(\"young\", \"young_adult\", \"adult\", \"middle_age_adult\", \"senior_adult\", \"unknown\"))))"
   ]
  },
  {
   "cell_type": "markdown",
   "id": "0f875efc-a373-4822-b7e2-91cbd5b9054f",
   "metadata": {},
   "source": [
    "This is a very cool and easy way to break up data and get a peek at what your data looks like."
   ]
  },
  {
   "cell_type": "markdown",
   "id": "fc601975-35ed-4680-a4e1-0273ee3cc047",
   "metadata": {},
   "source": [
    "## Question 2"
   ]
  },
  {
   "cell_type": "code",
   "execution_count": 6,
   "id": "a16336a1-1ef0-41e8-bc7c-49387db27497",
   "metadata": {},
   "outputs": [
    {
     "data": {
      "text/html": [
       "<table class=\"dataframe\">\n",
       "<caption>A matrix: 2 x 4 of type dbl</caption>\n",
       "<thead>\n",
       "\t<tr><th></th><th scope=col>CENTRAL</th><th scope=col>EAST</th><th scope=col>SOUTH</th><th scope=col>WEST</th></tr>\n",
       "</thead>\n",
       "<tbody>\n",
       "\t<tr><th scope=row>2016</th><td>4471801</td><td>5829166</td><td>3996751</td><td>4754003</td></tr>\n",
       "\t<tr><th scope=row>2017</th><td>4425505</td><td>5870281</td><td>3961170</td><td>4926104</td></tr>\n",
       "</tbody>\n",
       "</table>\n"
      ],
      "text/latex": [
       "A matrix: 2 x 4 of type dbl\n",
       "\\begin{tabular}{r|llll}\n",
       "  & CENTRAL & EAST & SOUTH & WEST\\\\\n",
       "\\hline\n",
       "\t2016 & 4471801 & 5829166 & 3996751 & 4754003\\\\\n",
       "\t2017 & 4425505 & 5870281 & 3961170 & 4926104\\\\\n",
       "\\end{tabular}\n"
      ],
      "text/markdown": [
       "\n",
       "A matrix: 2 x 4 of type dbl\n",
       "\n",
       "| <!--/--> | CENTRAL | EAST | SOUTH | WEST |\n",
       "|---|---|---|---|---|\n",
       "| 2016 | 4471801 | 5829166 | 3996751 | 4754003 |\n",
       "| 2017 | 4425505 | 5870281 | 3961170 | 4926104 |\n",
       "\n"
      ],
      "text/plain": [
       "     CENTRAL EAST    SOUTH   WEST   \n",
       "2016 4471801 5829166 3996751 4754003\n",
       "2017 4425505 5870281 3961170 4926104"
      ]
     },
     "metadata": {},
     "output_type": "display_data"
    }
   ],
   "source": [
    "grocDF = fread(\"/anvil/projects/tdm/data/8451/The_Complete_Journey_2_Master/5000_transactions.csv\")\n",
    "\n",
    "tapply(grocDF$SPEND, list(grocDF$YEAR, grocDF$STORE_R), sum)"
   ]
  },
  {
   "cell_type": "markdown",
   "id": "a06ff115-1f01-4e7b-a1da-d4e5031d1f16",
   "metadata": {},
   "source": [
    "An intuitive way to create matrices of data!"
   ]
  },
  {
   "cell_type": "markdown",
   "id": "8e586edd-ff26-4ce2-8f6b-2424b26f2929",
   "metadata": {},
   "source": [
    "## Question 3"
   ]
  },
  {
   "cell_type": "code",
   "execution_count": 7,
   "id": "bbe0f40d-9655-4653-9ca8-886bdb61cb91",
   "metadata": {},
   "outputs": [
    {
     "data": {
      "text/html": [
       "<table class=\"dataframe\">\n",
       "<caption>A matrix: 21 x 12 of type dbl</caption>\n",
       "<thead>\n",
       "\t<tr><th></th><th scope=col>1</th><th scope=col>2</th><th scope=col>3</th><th scope=col>4</th><th scope=col>5</th><th scope=col>6</th><th scope=col>7</th><th scope=col>8</th><th scope=col>9</th><th scope=col>10</th><th scope=col>11</th><th scope=col>12</th></tr>\n",
       "</thead>\n",
       "<tbody>\n",
       "\t<tr><th scope=row>1998</th><td>3.770000</td><td>3.396667</td><td>4.092000</td><td>3.840000</td><td>3.702000</td><td>4.700000</td><td>3.100000</td><td>3.823333</td><td>3.355000</td><td>3.910000</td><td>      NA</td><td>3.930000</td></tr>\n",
       "\t<tr><th scope=row>1999</th><td>      NA</td><td>3.613333</td><td>      NA</td><td>      NA</td><td>3.820000</td><td>3.850000</td><td>3.880000</td><td>      NA</td><td>      NA</td><td>3.500000</td><td>3.880000</td><td>4.000000</td></tr>\n",
       "\t<tr><th scope=row>2000</th><td>      NA</td><td>4.300000</td><td>      NA</td><td>3.880000</td><td>      NA</td><td>4.470000</td><td>3.995000</td><td>      NA</td><td>3.885000</td><td>3.880000</td><td>4.670000</td><td>3.400000</td></tr>\n",
       "\t<tr><th scope=row>2001</th><td>4.220000</td><td>4.488000</td><td>4.403333</td><td>3.053333</td><td>      NA</td><td>4.012000</td><td>4.080000</td><td>3.905455</td><td>4.010556</td><td>3.948000</td><td>4.112069</td><td>3.851053</td></tr>\n",
       "\t<tr><th scope=row>2002</th><td>4.246667</td><td>3.706000</td><td>3.933846</td><td>3.831224</td><td>3.887788</td><td>3.782655</td><td>3.950776</td><td>3.628201</td><td>3.798758</td><td>3.784247</td><td>3.885028</td><td>3.832537</td></tr>\n",
       "\t<tr><th scope=row>2003</th><td>3.842596</td><td>3.921875</td><td>3.840573</td><td>3.929500</td><td>3.895977</td><td>3.768022</td><td>3.742609</td><td>3.710635</td><td>3.761452</td><td>3.771104</td><td>3.790879</td><td>3.802826</td></tr>\n",
       "\t<tr><th scope=row>2004</th><td>3.892104</td><td>3.822910</td><td>3.757987</td><td>3.825360</td><td>3.826656</td><td>3.798576</td><td>3.816569</td><td>3.861793</td><td>3.802122</td><td>3.784444</td><td>3.741100</td><td>3.843094</td></tr>\n",
       "\t<tr><th scope=row>2005</th><td>3.872065</td><td>3.805870</td><td>3.884944</td><td>3.806607</td><td>3.743355</td><td>3.859615</td><td>3.769045</td><td>3.784184</td><td>3.795644</td><td>3.782152</td><td>3.855852</td><td>3.860837</td></tr>\n",
       "\t<tr><th scope=row>2006</th><td>3.821626</td><td>3.789613</td><td>3.803201</td><td>3.833529</td><td>3.816436</td><td>3.847766</td><td>3.799106</td><td>3.795228</td><td>3.826782</td><td>3.764831</td><td>3.802075</td><td>3.804746</td></tr>\n",
       "\t<tr><th scope=row>2007</th><td>3.796619</td><td>3.820563</td><td>3.785231</td><td>3.820230</td><td>3.768441</td><td>3.721336</td><td>3.809563</td><td>3.710408</td><td>3.769330</td><td>3.826076</td><td>3.779580</td><td>3.834992</td></tr>\n",
       "\t<tr><th scope=row>2008</th><td>3.897296</td><td>3.879322</td><td>3.825841</td><td>3.866337</td><td>3.819464</td><td>3.824667</td><td>3.833681</td><td>3.845346</td><td>3.824287</td><td>3.817620</td><td>3.841760</td><td>3.816298</td></tr>\n",
       "\t<tr><th scope=row>2009</th><td>3.868856</td><td>3.839302</td><td>3.847518</td><td>3.846370</td><td>3.892921</td><td>3.872649</td><td>3.851616</td><td>3.850718</td><td>3.809730</td><td>3.862528</td><td>3.851910</td><td>3.860305</td></tr>\n",
       "\t<tr><th scope=row>2010</th><td>3.810428</td><td>3.886246</td><td>3.884490</td><td>3.869777</td><td>3.838745</td><td>3.838772</td><td>3.806898</td><td>3.842232</td><td>3.844956</td><td>3.807355</td><td>3.844931</td><td>3.876926</td></tr>\n",
       "\t<tr><th scope=row>2011</th><td>3.861355</td><td>3.839600</td><td>3.839057</td><td>3.841564</td><td>3.844314</td><td>3.840459</td><td>3.855617</td><td>3.809778</td><td>3.799865</td><td>3.854808</td><td>4.132859</td><td>4.013434</td></tr>\n",
       "\t<tr><th scope=row>2012</th><td>3.827531</td><td>3.813721</td><td>3.842391</td><td>3.856536</td><td>3.843407</td><td>3.827998</td><td>3.843218</td><td>3.818722</td><td>3.826335</td><td>3.831577</td><td>3.869356</td><td>3.853065</td></tr>\n",
       "\t<tr><th scope=row>2013</th><td>3.930060</td><td>3.922282</td><td>3.945560</td><td>3.949689</td><td>3.945230</td><td>3.883678</td><td>3.849965</td><td>3.847642</td><td>3.822392</td><td>3.860475</td><td>3.875164</td><td>3.885565</td></tr>\n",
       "\t<tr><th scope=row>2014</th><td>3.894819</td><td>3.919469</td><td>3.923504</td><td>3.890891</td><td>3.886415</td><td>3.909815</td><td>3.872173</td><td>3.872730</td><td>3.885820</td><td>3.921727</td><td>3.933716</td><td>3.967668</td></tr>\n",
       "\t<tr><th scope=row>2015</th><td>3.997097</td><td>3.996901</td><td>4.005002</td><td>3.991280</td><td>3.984110</td><td>3.979467</td><td>3.967579</td><td>3.963439</td><td>3.967281</td><td>3.967198</td><td>3.985564</td><td>3.993312</td></tr>\n",
       "\t<tr><th scope=row>2016</th><td>3.986488</td><td>4.001558</td><td>3.987044</td><td>3.950565</td><td>3.970315</td><td>3.982854</td><td>3.987852</td><td>3.993576</td><td>4.005607</td><td>3.990623</td><td>4.007644</td><td>4.010456</td></tr>\n",
       "\t<tr><th scope=row>2017</th><td>4.011244</td><td>4.036964</td><td>4.025383</td><td>4.010692</td><td>3.986720</td><td>3.978366</td><td>3.978893</td><td>3.998201</td><td>4.005115</td><td>4.002342</td><td>4.008391</td><td>4.045614</td></tr>\n",
       "\t<tr><th scope=row>2018</th><td>4.025227</td><td>4.030995</td><td>4.013674</td><td>4.007635</td><td>3.999648</td><td>4.001002</td><td>3.948450</td><td>3.980969</td><td>3.992782</td><td>      NA</td><td>      NA</td><td>      NA</td></tr>\n",
       "</tbody>\n",
       "</table>\n"
      ],
      "text/latex": [
       "A matrix: 21 x 12 of type dbl\n",
       "\\begin{tabular}{r|llllllllllll}\n",
       "  & 1 & 2 & 3 & 4 & 5 & 6 & 7 & 8 & 9 & 10 & 11 & 12\\\\\n",
       "\\hline\n",
       "\t1998 & 3.770000 & 3.396667 & 4.092000 & 3.840000 & 3.702000 & 4.700000 & 3.100000 & 3.823333 & 3.355000 & 3.910000 &       NA & 3.930000\\\\\n",
       "\t1999 &       NA & 3.613333 &       NA &       NA & 3.820000 & 3.850000 & 3.880000 &       NA &       NA & 3.500000 & 3.880000 & 4.000000\\\\\n",
       "\t2000 &       NA & 4.300000 &       NA & 3.880000 &       NA & 4.470000 & 3.995000 &       NA & 3.885000 & 3.880000 & 4.670000 & 3.400000\\\\\n",
       "\t2001 & 4.220000 & 4.488000 & 4.403333 & 3.053333 &       NA & 4.012000 & 4.080000 & 3.905455 & 4.010556 & 3.948000 & 4.112069 & 3.851053\\\\\n",
       "\t2002 & 4.246667 & 3.706000 & 3.933846 & 3.831224 & 3.887788 & 3.782655 & 3.950776 & 3.628201 & 3.798758 & 3.784247 & 3.885028 & 3.832537\\\\\n",
       "\t2003 & 3.842596 & 3.921875 & 3.840573 & 3.929500 & 3.895977 & 3.768022 & 3.742609 & 3.710635 & 3.761452 & 3.771104 & 3.790879 & 3.802826\\\\\n",
       "\t2004 & 3.892104 & 3.822910 & 3.757987 & 3.825360 & 3.826656 & 3.798576 & 3.816569 & 3.861793 & 3.802122 & 3.784444 & 3.741100 & 3.843094\\\\\n",
       "\t2005 & 3.872065 & 3.805870 & 3.884944 & 3.806607 & 3.743355 & 3.859615 & 3.769045 & 3.784184 & 3.795644 & 3.782152 & 3.855852 & 3.860837\\\\\n",
       "\t2006 & 3.821626 & 3.789613 & 3.803201 & 3.833529 & 3.816436 & 3.847766 & 3.799106 & 3.795228 & 3.826782 & 3.764831 & 3.802075 & 3.804746\\\\\n",
       "\t2007 & 3.796619 & 3.820563 & 3.785231 & 3.820230 & 3.768441 & 3.721336 & 3.809563 & 3.710408 & 3.769330 & 3.826076 & 3.779580 & 3.834992\\\\\n",
       "\t2008 & 3.897296 & 3.879322 & 3.825841 & 3.866337 & 3.819464 & 3.824667 & 3.833681 & 3.845346 & 3.824287 & 3.817620 & 3.841760 & 3.816298\\\\\n",
       "\t2009 & 3.868856 & 3.839302 & 3.847518 & 3.846370 & 3.892921 & 3.872649 & 3.851616 & 3.850718 & 3.809730 & 3.862528 & 3.851910 & 3.860305\\\\\n",
       "\t2010 & 3.810428 & 3.886246 & 3.884490 & 3.869777 & 3.838745 & 3.838772 & 3.806898 & 3.842232 & 3.844956 & 3.807355 & 3.844931 & 3.876926\\\\\n",
       "\t2011 & 3.861355 & 3.839600 & 3.839057 & 3.841564 & 3.844314 & 3.840459 & 3.855617 & 3.809778 & 3.799865 & 3.854808 & 4.132859 & 4.013434\\\\\n",
       "\t2012 & 3.827531 & 3.813721 & 3.842391 & 3.856536 & 3.843407 & 3.827998 & 3.843218 & 3.818722 & 3.826335 & 3.831577 & 3.869356 & 3.853065\\\\\n",
       "\t2013 & 3.930060 & 3.922282 & 3.945560 & 3.949689 & 3.945230 & 3.883678 & 3.849965 & 3.847642 & 3.822392 & 3.860475 & 3.875164 & 3.885565\\\\\n",
       "\t2014 & 3.894819 & 3.919469 & 3.923504 & 3.890891 & 3.886415 & 3.909815 & 3.872173 & 3.872730 & 3.885820 & 3.921727 & 3.933716 & 3.967668\\\\\n",
       "\t2015 & 3.997097 & 3.996901 & 4.005002 & 3.991280 & 3.984110 & 3.979467 & 3.967579 & 3.963439 & 3.967281 & 3.967198 & 3.985564 & 3.993312\\\\\n",
       "\t2016 & 3.986488 & 4.001558 & 3.987044 & 3.950565 & 3.970315 & 3.982854 & 3.987852 & 3.993576 & 4.005607 & 3.990623 & 4.007644 & 4.010456\\\\\n",
       "\t2017 & 4.011244 & 4.036964 & 4.025383 & 4.010692 & 3.986720 & 3.978366 & 3.978893 & 3.998201 & 4.005115 & 4.002342 & 4.008391 & 4.045614\\\\\n",
       "\t2018 & 4.025227 & 4.030995 & 4.013674 & 4.007635 & 3.999648 & 4.001002 & 3.948450 & 3.980969 & 3.992782 &       NA &       NA &       NA\\\\\n",
       "\\end{tabular}\n"
      ],
      "text/markdown": [
       "\n",
       "A matrix: 21 x 12 of type dbl\n",
       "\n",
       "| <!--/--> | 1 | 2 | 3 | 4 | 5 | 6 | 7 | 8 | 9 | 10 | 11 | 12 |\n",
       "|---|---|---|---|---|---|---|---|---|---|---|---|---|\n",
       "| 1998 | 3.770000 | 3.396667 | 4.092000 | 3.840000 | 3.702000 | 4.700000 | 3.100000 | 3.823333 | 3.355000 | 3.910000 |       NA | 3.930000 |\n",
       "| 1999 |       NA | 3.613333 |       NA |       NA | 3.820000 | 3.850000 | 3.880000 |       NA |       NA | 3.500000 | 3.880000 | 4.000000 |\n",
       "| 2000 |       NA | 4.300000 |       NA | 3.880000 |       NA | 4.470000 | 3.995000 |       NA | 3.885000 | 3.880000 | 4.670000 | 3.400000 |\n",
       "| 2001 | 4.220000 | 4.488000 | 4.403333 | 3.053333 |       NA | 4.012000 | 4.080000 | 3.905455 | 4.010556 | 3.948000 | 4.112069 | 3.851053 |\n",
       "| 2002 | 4.246667 | 3.706000 | 3.933846 | 3.831224 | 3.887788 | 3.782655 | 3.950776 | 3.628201 | 3.798758 | 3.784247 | 3.885028 | 3.832537 |\n",
       "| 2003 | 3.842596 | 3.921875 | 3.840573 | 3.929500 | 3.895977 | 3.768022 | 3.742609 | 3.710635 | 3.761452 | 3.771104 | 3.790879 | 3.802826 |\n",
       "| 2004 | 3.892104 | 3.822910 | 3.757987 | 3.825360 | 3.826656 | 3.798576 | 3.816569 | 3.861793 | 3.802122 | 3.784444 | 3.741100 | 3.843094 |\n",
       "| 2005 | 3.872065 | 3.805870 | 3.884944 | 3.806607 | 3.743355 | 3.859615 | 3.769045 | 3.784184 | 3.795644 | 3.782152 | 3.855852 | 3.860837 |\n",
       "| 2006 | 3.821626 | 3.789613 | 3.803201 | 3.833529 | 3.816436 | 3.847766 | 3.799106 | 3.795228 | 3.826782 | 3.764831 | 3.802075 | 3.804746 |\n",
       "| 2007 | 3.796619 | 3.820563 | 3.785231 | 3.820230 | 3.768441 | 3.721336 | 3.809563 | 3.710408 | 3.769330 | 3.826076 | 3.779580 | 3.834992 |\n",
       "| 2008 | 3.897296 | 3.879322 | 3.825841 | 3.866337 | 3.819464 | 3.824667 | 3.833681 | 3.845346 | 3.824287 | 3.817620 | 3.841760 | 3.816298 |\n",
       "| 2009 | 3.868856 | 3.839302 | 3.847518 | 3.846370 | 3.892921 | 3.872649 | 3.851616 | 3.850718 | 3.809730 | 3.862528 | 3.851910 | 3.860305 |\n",
       "| 2010 | 3.810428 | 3.886246 | 3.884490 | 3.869777 | 3.838745 | 3.838772 | 3.806898 | 3.842232 | 3.844956 | 3.807355 | 3.844931 | 3.876926 |\n",
       "| 2011 | 3.861355 | 3.839600 | 3.839057 | 3.841564 | 3.844314 | 3.840459 | 3.855617 | 3.809778 | 3.799865 | 3.854808 | 4.132859 | 4.013434 |\n",
       "| 2012 | 3.827531 | 3.813721 | 3.842391 | 3.856536 | 3.843407 | 3.827998 | 3.843218 | 3.818722 | 3.826335 | 3.831577 | 3.869356 | 3.853065 |\n",
       "| 2013 | 3.930060 | 3.922282 | 3.945560 | 3.949689 | 3.945230 | 3.883678 | 3.849965 | 3.847642 | 3.822392 | 3.860475 | 3.875164 | 3.885565 |\n",
       "| 2014 | 3.894819 | 3.919469 | 3.923504 | 3.890891 | 3.886415 | 3.909815 | 3.872173 | 3.872730 | 3.885820 | 3.921727 | 3.933716 | 3.967668 |\n",
       "| 2015 | 3.997097 | 3.996901 | 4.005002 | 3.991280 | 3.984110 | 3.979467 | 3.967579 | 3.963439 | 3.967281 | 3.967198 | 3.985564 | 3.993312 |\n",
       "| 2016 | 3.986488 | 4.001558 | 3.987044 | 3.950565 | 3.970315 | 3.982854 | 3.987852 | 3.993576 | 4.005607 | 3.990623 | 4.007644 | 4.010456 |\n",
       "| 2017 | 4.011244 | 4.036964 | 4.025383 | 4.010692 | 3.986720 | 3.978366 | 3.978893 | 3.998201 | 4.005115 | 4.002342 | 4.008391 | 4.045614 |\n",
       "| 2018 | 4.025227 | 4.030995 | 4.013674 | 4.007635 | 3.999648 | 4.001002 | 3.948450 | 3.980969 | 3.992782 |       NA |       NA |       NA |\n",
       "\n"
      ],
      "text/plain": [
       "     1        2        3        4        5        6        7        8       \n",
       "1998 3.770000 3.396667 4.092000 3.840000 3.702000 4.700000 3.100000 3.823333\n",
       "1999       NA 3.613333       NA       NA 3.820000 3.850000 3.880000       NA\n",
       "2000       NA 4.300000       NA 3.880000       NA 4.470000 3.995000       NA\n",
       "2001 4.220000 4.488000 4.403333 3.053333       NA 4.012000 4.080000 3.905455\n",
       "2002 4.246667 3.706000 3.933846 3.831224 3.887788 3.782655 3.950776 3.628201\n",
       "2003 3.842596 3.921875 3.840573 3.929500 3.895977 3.768022 3.742609 3.710635\n",
       "2004 3.892104 3.822910 3.757987 3.825360 3.826656 3.798576 3.816569 3.861793\n",
       "2005 3.872065 3.805870 3.884944 3.806607 3.743355 3.859615 3.769045 3.784184\n",
       "2006 3.821626 3.789613 3.803201 3.833529 3.816436 3.847766 3.799106 3.795228\n",
       "2007 3.796619 3.820563 3.785231 3.820230 3.768441 3.721336 3.809563 3.710408\n",
       "2008 3.897296 3.879322 3.825841 3.866337 3.819464 3.824667 3.833681 3.845346\n",
       "2009 3.868856 3.839302 3.847518 3.846370 3.892921 3.872649 3.851616 3.850718\n",
       "2010 3.810428 3.886246 3.884490 3.869777 3.838745 3.838772 3.806898 3.842232\n",
       "2011 3.861355 3.839600 3.839057 3.841564 3.844314 3.840459 3.855617 3.809778\n",
       "2012 3.827531 3.813721 3.842391 3.856536 3.843407 3.827998 3.843218 3.818722\n",
       "2013 3.930060 3.922282 3.945560 3.949689 3.945230 3.883678 3.849965 3.847642\n",
       "2014 3.894819 3.919469 3.923504 3.890891 3.886415 3.909815 3.872173 3.872730\n",
       "2015 3.997097 3.996901 4.005002 3.991280 3.984110 3.979467 3.967579 3.963439\n",
       "2016 3.986488 4.001558 3.987044 3.950565 3.970315 3.982854 3.987852 3.993576\n",
       "2017 4.011244 4.036964 4.025383 4.010692 3.986720 3.978366 3.978893 3.998201\n",
       "2018 4.025227 4.030995 4.013674 4.007635 3.999648 4.001002 3.948450 3.980969\n",
       "     9        10       11       12      \n",
       "1998 3.355000 3.910000       NA 3.930000\n",
       "1999       NA 3.500000 3.880000 4.000000\n",
       "2000 3.885000 3.880000 4.670000 3.400000\n",
       "2001 4.010556 3.948000 4.112069 3.851053\n",
       "2002 3.798758 3.784247 3.885028 3.832537\n",
       "2003 3.761452 3.771104 3.790879 3.802826\n",
       "2004 3.802122 3.784444 3.741100 3.843094\n",
       "2005 3.795644 3.782152 3.855852 3.860837\n",
       "2006 3.826782 3.764831 3.802075 3.804746\n",
       "2007 3.769330 3.826076 3.779580 3.834992\n",
       "2008 3.824287 3.817620 3.841760 3.816298\n",
       "2009 3.809730 3.862528 3.851910 3.860305\n",
       "2010 3.844956 3.807355 3.844931 3.876926\n",
       "2011 3.799865 3.854808 4.132859 4.013434\n",
       "2012 3.826335 3.831577 3.869356 3.853065\n",
       "2013 3.822392 3.860475 3.875164 3.885565\n",
       "2014 3.885820 3.921727 3.933716 3.967668\n",
       "2015 3.967281 3.967198 3.985564 3.993312\n",
       "2016 4.005607 3.990623 4.007644 4.010456\n",
       "2017 4.005115 4.002342 4.008391 4.045614\n",
       "2018 3.992782       NA       NA       NA"
      ]
     },
     "metadata": {},
     "output_type": "display_data"
    }
   ],
   "source": [
    "beersDF = fread(\"/anvil/projects/tdm/data/beer/reviews_sample.csv\")\n",
    "\n",
    "tapply(beersDF$score, list(year(beersDF$date), month(beersDF$date)), mean)"
   ]
  },
  {
   "cell_type": "markdown",
   "id": "a8b95f57-590a-4b49-8226-962ae13e0487",
   "metadata": {},
   "source": [
    "Similar to question 3, just with dates"
   ]
  },
  {
   "cell_type": "markdown",
   "id": "da22f29c-d245-4d2b-9fc1-ca14cb6087d9",
   "metadata": {},
   "source": [
    "## Question 4"
   ]
  },
  {
   "cell_type": "code",
   "execution_count": 8,
   "id": "8cffc767-d1c8-4d64-b7dc-f0d2ee8a80d1",
   "metadata": {},
   "outputs": [],
   "source": [
    "# copied directly from question\n",
    "library(data.table)\n",
    "myDF <- fread(\"/anvil/projects/tdm/data/election/itcont1980.txt\", quote=\"\")\n",
    "names(myDF) <- c(\"CMTE_ID\", \"AMNDT_IND\", \"RPT_TP\", \"TRANSACTION_PGI\", \"IMAGE_NUM\", \"TRANSACTION_TP\", \"ENTITY_TP\", \"NAME\", \"CITY\", \"STATE\", \"ZIP_CODE\", \"EMPLOYER\", \"OCCUPATION\", \"TRANSACTION_DT\", \"TRANSACTION_AMT\", \"OTHER_ID\", \"TRAN_ID\", \"FILE_NUM\", \"MEMO_CD\", \"MEMO_TEXT\", \"SUB_ID\")"
   ]
  },
  {
   "cell_type": "code",
   "execution_count": 9,
   "id": "2a5bdd46-1314-48a8-a73f-eb9fd67a086e",
   "metadata": {},
   "outputs": [
    {
     "data": {
      "text/plain": [
       "\n",
       "    CHESTERTON    INDIANPOLIS     PLAINFIELD      WALKERTON       HIGHLAND \n",
       "            15             15             15             15             16 \n",
       " MICHIGAN CITY      MISHAWAKA         HOBART      VINCENNES         WARSAW \n",
       "            16             16             17             20             21 \n",
       "       HAMMOND    NOBLESVILLE    W LAFAYETTE       SYRACUSE WEST LAFAYETTE \n",
       "            22             22             22             24             24 \n",
       "        WABASH        MUNSTER         MUNICE       ANDERSON     VALPARAISO \n",
       "            27             30             31             34             34 \n",
       "   CROWN POINT      GREENWOOD    BLOOMINGTON       RICHMOND       COLUMBUS \n",
       "            35             35             38             43             45 \n",
       "        KOKOMO   MERRILLVILLE           GARY     ZIONSVILLE        LAPORTE \n",
       "            45             46             47             52             53 \n",
       "   TERRE HAUTE      LAFAYETTE         INDPLS     SOUTH BEND        ELKHART \n",
       "            75             85            123            123            132 \n",
       "      FT WAYNE     EVANSVILLE     FORT WAYNE         CARMEL         MUNCIE \n",
       "           132            151            157            167            232 \n",
       "  INDIANAPOLIS \n",
       "          1443 "
      ]
     },
     "metadata": {},
     "output_type": "display_data"
    }
   ],
   "source": [
    "# part a\n",
    "indyDF = subset(myDF, STATE==\"IN\")\n",
    "tail(sort(table(indyDF$CITY), decreasing=FALSE), n=41)"
   ]
  },
  {
   "cell_type": "markdown",
   "id": "17e88435-5f39-4fb2-9854-a6bc433c4982",
   "metadata": {},
   "source": [
    "Took several attempts to get the \"descending\" and \"n\" parameters into the right places."
   ]
  },
  {
   "cell_type": "code",
   "execution_count": 10,
   "id": "7f3e9e17-e4c2-428b-880a-bb2c460d57ff",
   "metadata": {},
   "outputs": [
    {
     "data": {
      "text/plain": [
       "\n",
       "    CHESTERTON    INDIANPOLIS     PLAINFIELD      WALKERTON       HIGHLAND \n",
       "            15             15             15             15             16 \n",
       " MICHIGAN CITY      MISHAWAKA         HOBART      VINCENNES         WARSAW \n",
       "            16             16             17             20             21 \n",
       "       HAMMOND    NOBLESVILLE    W LAFAYETTE       SYRACUSE WEST LAFAYETTE \n",
       "            22             22             22             24             24 \n",
       "        WABASH        MUNSTER         MUNICE       ANDERSON     VALPARAISO \n",
       "            27             30             31             34             34 \n",
       "   CROWN POINT      GREENWOOD    BLOOMINGTON       RICHMOND       COLUMBUS \n",
       "            35             35             38             43             45 \n",
       "        KOKOMO   MERRILLVILLE           GARY     ZIONSVILLE        LAPORTE \n",
       "            45             46             47             52             53 \n",
       "   TERRE HAUTE      LAFAYETTE         INDPLS     SOUTH BEND        ELKHART \n",
       "            75             85            123            123            132 \n",
       "      FT WAYNE     EVANSVILLE     FORT WAYNE         CARMEL         MUNCIE \n",
       "           132            151            157            167            232 \n",
       "  INDIANAPOLIS \n",
       "          1443 "
      ]
     },
     "metadata": {},
     "output_type": "display_data"
    }
   ],
   "source": [
    "# part b\n",
    "indyDF = myDF[myDF$STATE==\"IN\"]\n",
    "tail(sort(table(indyDF$CITY), decreasing=FALSE), n=41)"
   ]
  },
  {
   "cell_type": "markdown",
   "id": "1897d4d8-443b-43ac-9fff-1937b47d147e",
   "metadata": {},
   "source": [
    "Didn't see a reason to change to second line of code, just used indexing instead of subset to get the dataframe with IN as the state."
   ]
  },
  {
   "cell_type": "code",
   "execution_count": 10,
   "id": "046972c9-cf13-4b20-8c73-ebbc88f70fc4",
   "metadata": {},
   "outputs": [],
   "source": [
    "# part c\n",
    "# There's a typo and one entry is \"INDIANPOLIS\"! I'm guessing it was supposed to be \"INDIANAPOLIS\""
   ]
  },
  {
   "cell_type": "markdown",
   "id": "88c9cdac-3e92-498f-83fa-e089bfc44ac8",
   "metadata": {},
   "source": [
    "## Question 5"
   ]
  },
  {
   "cell_type": "code",
   "execution_count": 1,
   "id": "d370d7c9-06db-42b9-b75f-240481a5c491",
   "metadata": {},
   "outputs": [
    {
     "data": {
      "text/plain": [
       "\n",
       "   (-Inf,0]      (0,60]    (60,120]   (120,180]   (180,240]   (240,300] \n",
       "    2966433     2111783      104240       24000        7517        2630 \n",
       "  (300,360]   (360,420]   (420,480]   (480,540]   (540,600]   (600,660] \n",
       "       1001         366         125          65          35          19 \n",
       "  (660,720]   (720,780]   (780,840]   (840,900]   (900,960]  (960,1020] \n",
       "         24          20          24          13           8           6 \n",
       "(1020,1080] (1080,1140] (1140,1200] (1200,1260] (1260,1320] (1320,1380] \n",
       "          1           4           3           3          11          28 \n",
       "(1380,1440] (1440, Inf] \n",
       "         76           0 "
      ]
     },
     "metadata": {},
     "output_type": "display_data"
    }
   ],
   "source": [
    "library(data.table)\n",
    "flightsDF = fread(\"/anvil/projects/tdm/data/flights/subset/1990.csv\")\n",
    "\n",
    "table(cut(flightsDF$DepDelay, breaks=c(-Inf, seq(0, 1440, by=60), Inf), dig.lab=4, useNA=\"always\"))"
   ]
  },
  {
   "cell_type": "markdown",
   "id": "07189d50-fb90-4002-9c9a-54281e56d90d",
   "metadata": {},
   "source": [
    "I really like this seq function. Makes breaking up a table like this super easy."
   ]
  },
  {
   "cell_type": "markdown",
   "id": "f76442d6-d02e-4f26-b9d6-c3183e1d6929",
   "metadata": {},
   "source": [
    "## Pledge\n",
    "\n",
    "By submitting this work I hereby pledge that this is my own, personal work. I've acknowledged in the designated place at the top of this file all sources that I used to complete said work, including but not limited to: online resources, books, and electronic communications. I've noted all collaboration with fellow students and/or TA's. I did not copy or plagiarize another's work.\n",
    "\n",
    "> As a Boilermaker pursuing academic excellence, I pledge to be honest and true in all that I do. Accountable together – We are Purdue."
   ]
  }
 ],
 "metadata": {
  "kernelspec": {
   "display_name": "seminar-r",
   "language": "R",
   "name": "seminar-r"
  },
  "language_info": {
   "codemirror_mode": "r",
   "file_extension": ".r",
   "mimetype": "text/x-r-source",
   "name": "R",
   "pygments_lexer": "r",
   "version": "4.4.1"
  }
 },
 "nbformat": 4,
 "nbformat_minor": 5
}
