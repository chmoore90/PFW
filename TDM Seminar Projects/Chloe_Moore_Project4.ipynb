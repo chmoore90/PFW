{
 "cells": [
  {
   "cell_type": "markdown",
   "id": "be02a957-7133-4d02-818e-fedeb3cecb05",
   "metadata": {},
   "source": [
    "# Project 4 -- Chloe Moore"
   ]
  },
  {
   "cell_type": "markdown",
   "id": "a1228853-dd19-4ab2-89e0-0394d7d72de3",
   "metadata": {},
   "source": [
    "**TA Help:** \n",
    "    \n",
    "**Collaboration:** "
   ]
  },
  {
   "cell_type": "markdown",
   "id": "6180e742-8e39-4698-98ff-5b00c8cf8ea0",
   "metadata": {},
   "source": [
    "## Question 1"
   ]
  },
  {
   "cell_type": "code",
   "execution_count": 1,
   "id": "49445606-d363-41b4-b479-e319a9a84c01",
   "metadata": {},
   "outputs": [
    {
     "data": {
      "text/html": [
       "<style>\n",
       ".dl-inline {width: auto; margin:0; padding: 0}\n",
       ".dl-inline>dt, .dl-inline>dd {float: none; width: auto; display: inline-block}\n",
       ".dl-inline>dt::after {content: \":\\0020\"; padding-right: .5ex}\n",
       ".dl-inline>dt:not(:first-of-type) {padding-left: .5ex}\n",
       "</style><dl class=dl-inline><dt>F</dt><dd>76.68</dd><dt>M</dt><dd>70.23</dd></dl>\n"
      ],
      "text/latex": [
       "\\begin{description*}\n",
       "\\item[F] 76.68\n",
       "\\item[M] 70.23\n",
       "\\end{description*}\n"
      ],
      "text/markdown": [
       "F\n",
       ":   76.68M\n",
       ":   70.23\n",
       "\n"
      ],
      "text/plain": [
       "    F     M \n",
       "76.68 70.23 "
      ]
     },
     "metadata": {},
     "output_type": "display_data"
    }
   ],
   "source": [
    "library(data.table)\n",
    "df_deathrec = fread(\"/anvil/projects/tdm/data/death_records/DeathRecords.csv\")\n",
    "\n",
    "round(tapply(df_deathrec$Age, df_deathrec$Sex, mean), digits=2)"
   ]
  },
  {
   "cell_type": "markdown",
   "id": "e273ee04-8304-4666-ac37-38a7c5dccb09",
   "metadata": {},
   "source": [
    "Forgot to load the data.table library at first, but Jupyter kindly reminded me of that when I tried to run it the first time. Took a quick look at Project 3 to refresh how tapply worked, but otherwise pretty straightforward. Rounded to 2 decimals for readability."
   ]
  },
  {
   "cell_type": "markdown",
   "id": "fc601975-35ed-4680-a4e1-0273ee3cc047",
   "metadata": {},
   "source": [
    "## Question 2"
   ]
  },
  {
   "cell_type": "code",
   "execution_count": 2,
   "id": "a16336a1-1ef0-41e8-bc7c-49387db27497",
   "metadata": {},
   "outputs": [
    {
     "data": {
      "text/html": [
       "<style>\n",
       ".dl-inline {width: auto; margin:0; padding: 0}\n",
       ".dl-inline>dt, .dl-inline>dd {float: none; width: auto; display: inline-block}\n",
       ".dl-inline>dt::after {content: \":\\0020\"; padding-right: .5ex}\n",
       ".dl-inline>dt:not(:first-of-type) {padding-left: .5ex}\n",
       "</style><dl class=dl-inline><dt>7</dt><dd>110.43</dd><dt>14</dt><dd>52.36</dd><dt>20</dt><dd>2.49</dd><dt>51</dt><dd>1.29</dd><dt>57</dt><dd>40</dd><dt>154</dt><dd>2.79</dd><dt>197</dt><dd>327.23</dd><dt>287</dt><dd>4.49</dd><dt>293</dt><dd>4.13</dd><dt>500</dt><dd>0.5</dd></dl>\n"
      ],
      "text/latex": [
       "\\begin{description*}\n",
       "\\item[7] 110.43\n",
       "\\item[14] 52.36\n",
       "\\item[20] 2.49\n",
       "\\item[51] 1.29\n",
       "\\item[57] 40\n",
       "\\item[154] 2.79\n",
       "\\item[197] 327.23\n",
       "\\item[287] 4.49\n",
       "\\item[293] 4.13\n",
       "\\item[500] 0.5\n",
       "\\end{description*}\n"
      ],
      "text/markdown": [
       "7\n",
       ":   110.4314\n",
       ":   52.3620\n",
       ":   2.4951\n",
       ":   1.2957\n",
       ":   40154\n",
       ":   2.79197\n",
       ":   327.23287\n",
       ":   4.49293\n",
       ":   4.13500\n",
       ":   0.5\n",
       "\n"
      ],
      "text/plain": [
       "     7     14     20     51     57    154    197    287    293    500 \n",
       "110.43  52.36   2.49   1.29  40.00   2.79 327.23   4.49   4.13   0.50 "
      ]
     },
     "metadata": {},
     "output_type": "display_data"
    }
   ],
   "source": [
    "library(data.table)\n",
    "df_groc = fread(\"/anvil/projects/tdm/data/8451/The_Complete_Journey_2_Master/5000_transactions.csv\")\n",
    "\n",
    "head(tapply(df_groc$SPEND, df_groc$PRODUCT_NUM, sum), 10)"
   ]
  },
  {
   "cell_type": "markdown",
   "id": "d45e3c43-ae79-44d9-9602-b57ba6763d39",
   "metadata": {},
   "source": [
    "Added library(data.table) in case kernel died, so I didn't have to run question 1 over and over (it did). Used stackexchange to find out how to ask for the top 10 results when using head(), instead of the default. The stack question was actually a but more involved than what I needed, but I was able to find the information I needed. https://stackoverflow.com/questions/65879503/how-to-print-the-head-first-10-rows-with-only-select-variables-in-r"
   ]
  },
  {
   "cell_type": "markdown",
   "id": "8e586edd-ff26-4ce2-8f6b-2424b26f2929",
   "metadata": {},
   "source": [
    "## Question 3"
   ]
  },
  {
   "cell_type": "code",
   "execution_count": 1,
   "id": "bbe0f40d-9655-4653-9ca8-886bdb61cb91",
   "metadata": {},
   "outputs": [
    {
     "data": {
      "text/html": [
       "<style>\n",
       ".dl-inline {width: auto; margin:0; padding: 0}\n",
       ".dl-inline>dt, .dl-inline>dd {float: none; width: auto; display: inline-block}\n",
       ".dl-inline>dt::after {content: \":\\0020\"; padding-right: .5ex}\n",
       ".dl-inline>dt:not(:first-of-type) {padding-left: .5ex}\n",
       "</style><dl class=dl-inline><dt>2001-04-26</dt><dd>5</dd><dt>2001-06-18</dt><dd>5</dd><dt>2002-01-26</dt><dd>5</dd></dl>\n"
      ],
      "text/latex": [
       "\\begin{description*}\n",
       "\\item[2001-04-26] 5\n",
       "\\item[2001-06-18] 5\n",
       "\\item[2002-01-26] 5\n",
       "\\end{description*}\n"
      ],
      "text/markdown": [
       "2001-04-26\n",
       ":   52001-06-18\n",
       ":   52002-01-26\n",
       ":   5\n",
       "\n"
      ],
      "text/plain": [
       "2001-04-26 2001-06-18 2002-01-26 \n",
       "         5          5          5 "
      ]
     },
     "metadata": {},
     "output_type": "display_data"
    }
   ],
   "source": [
    "library(data.table)\n",
    "df_beer = fread(\"/anvil/projects/tdm/data/beer/reviews_sample.csv\")\n",
    "\n",
    "scores_by_date = tapply(df_beer$score, df_beer$date, mean)\n",
    "tail(sort(scores_by_date), 3)"
   ]
  },
  {
   "cell_type": "markdown",
   "id": "8d897746-126a-42df-9cc0-414da4b727b8",
   "metadata": {},
   "source": [
    "I don't like nesting methods inside each other too much, so I broke this one up into two lines. The first one created a scores_by_date object, which had all the mean calculations grouped by date. The second line sorted the object and displayed the tail, to show the dates with the highest scores."
   ]
  },
  {
   "cell_type": "markdown",
   "id": "da22f29c-d245-4d2b-9fc1-ca14cb6087d9",
   "metadata": {},
   "source": [
    "## Question 4"
   ]
  },
  {
   "cell_type": "code",
   "execution_count": 2,
   "id": "8cffc767-d1c8-4d64-b7dc-f0d2ee8a80d1",
   "metadata": {},
   "outputs": [
    {
     "data": {
      "text/html": [
       "<style>\n",
       ".dl-inline {width: auto; margin:0; padding: 0}\n",
       ".dl-inline>dt, .dl-inline>dd {float: none; width: auto; display: inline-block}\n",
       ".dl-inline>dt::after {content: \":\\0020\"; padding-right: .5ex}\n",
       ".dl-inline>dt:not(:first-of-type) {padding-left: .5ex}\n",
       "</style><dl class=dl-inline><dt>CINCINNATI, OH</dt><dd>1096983</dd><dt>DENVER, CO</dt><dd>1183471</dd><dt>MIDLAND, TX</dt><dd>1210584</dd><dt>WASHINGTOM, DC</dt><dd>1300341</dd><dt>GREENWICH, CT</dt><dd>1340112</dd><dt>TULSA, OK</dt><dd>1341956</dd><dt>MIAMI, FL</dt><dd>1541867</dd><dt>SAN ANTONIO, TX</dt><dd>1583292</dd><dt>ST LOUIS, MO</dt><dd>1639570</dd><dt>OKLAHOMA CITY, OK</dt><dd>1751431</dd><dt>ATLANTA, GA</dt><dd>1892356</dd><dt>BEVERLY HILLS, CA</dt><dd>2053148</dd><dt>SAN FRANCISCO, CA</dt><dd>2061441</dd><dt>CHICAGO, IL</dt><dd>3179470</dd><dt>WASHINGTON, DC</dt><dd>4273606</dd><dt>LOS ANGELES, CA</dt><dd>4569952</dd><dt>DALLAS, TX</dt><dd>4748262</dd><dt>HOUSTON, TX</dt><dd>7606806</dd><dt>NEW YORK, NY</dt><dd>11345027</dd><dt>, </dt><dd>17299729</dd></dl>\n"
      ],
      "text/latex": [
       "\\begin{description*}\n",
       "\\item[CINCINNATI, OH] 1096983\n",
       "\\item[DENVER, CO] 1183471\n",
       "\\item[MIDLAND, TX] 1210584\n",
       "\\item[WASHINGTOM, DC] 1300341\n",
       "\\item[GREENWICH, CT] 1340112\n",
       "\\item[TULSA, OK] 1341956\n",
       "\\item[MIAMI, FL] 1541867\n",
       "\\item[SAN ANTONIO, TX] 1583292\n",
       "\\item[ST LOUIS, MO] 1639570\n",
       "\\item[OKLAHOMA CITY, OK] 1751431\n",
       "\\item[ATLANTA, GA] 1892356\n",
       "\\item[BEVERLY HILLS, CA] 2053148\n",
       "\\item[SAN FRANCISCO, CA] 2061441\n",
       "\\item[CHICAGO, IL] 3179470\n",
       "\\item[WASHINGTON, DC] 4273606\n",
       "\\item[LOS ANGELES, CA] 4569952\n",
       "\\item[DALLAS, TX] 4748262\n",
       "\\item[HOUSTON, TX] 7606806\n",
       "\\item[NEW YORK, NY] 11345027\n",
       "\\item[, ] 17299729\n",
       "\\end{description*}\n"
      ],
      "text/markdown": [
       "CINCINNATI, OH\n",
       ":   1096983DENVER, CO\n",
       ":   1183471MIDLAND, TX\n",
       ":   1210584WASHINGTOM, DC\n",
       ":   1300341GREENWICH, CT\n",
       ":   1340112TULSA, OK\n",
       ":   1341956MIAMI, FL\n",
       ":   1541867SAN ANTONIO, TX\n",
       ":   1583292ST LOUIS, MO\n",
       ":   1639570OKLAHOMA CITY, OK\n",
       ":   1751431ATLANTA, GA\n",
       ":   1892356BEVERLY HILLS, CA\n",
       ":   2053148SAN FRANCISCO, CA\n",
       ":   2061441CHICAGO, IL\n",
       ":   3179470WASHINGTON, DC\n",
       ":   4273606LOS ANGELES, CA\n",
       ":   4569952DALLAS, TX\n",
       ":   4748262HOUSTON, TX\n",
       ":   7606806NEW YORK, NY\n",
       ":   11345027, \n",
       ":   17299729\n",
       "\n"
      ],
      "text/plain": [
       "   CINCINNATI, OH        DENVER, CO       MIDLAND, TX    WASHINGTOM, DC \n",
       "          1096983           1183471           1210584           1300341 \n",
       "    GREENWICH, CT         TULSA, OK         MIAMI, FL   SAN ANTONIO, TX \n",
       "          1340112           1341956           1541867           1583292 \n",
       "     ST LOUIS, MO OKLAHOMA CITY, OK       ATLANTA, GA BEVERLY HILLS, CA \n",
       "          1639570           1751431           1892356           2053148 \n",
       "SAN FRANCISCO, CA       CHICAGO, IL    WASHINGTON, DC   LOS ANGELES, CA \n",
       "          2061441           3179470           4273606           4569952 \n",
       "       DALLAS, TX       HOUSTON, TX      NEW YORK, NY                ,  \n",
       "          4748262           7606806          11345027          17299729 "
      ]
     },
     "metadata": {},
     "output_type": "display_data"
    }
   ],
   "source": [
    "# copied and pasted from original question\n",
    "library(data.table)\n",
    "myDF <- fread(\"/anvil/projects/tdm/data/election/itcont1980.txt\", quote=\"\")\n",
    "names(myDF) <- c(\"CMTE_ID\", \"AMNDT_IND\", \"RPT_TP\", \"TRANSACTION_PGI\", \"IMAGE_NUM\", \"TRANSACTION_TP\", \"ENTITY_TP\", \"NAME\", \"CITY\", \"STATE\", \"ZIP_CODE\", \"EMPLOYER\", \"OCCUPATION\", \"TRANSACTION_DT\", \"TRANSACTION_AMT\", \"OTHER_ID\", \"TRAN_ID\", \"FILE_NUM\", \"MEMO_CD\", \"MEMO_TEXT\", \"SUB_ID\")\n",
    "\n",
    "# pasting city and state together\n",
    "pair = paste(myDF$CITY, myDF$STATE, sep=\", \")\n",
    "\n",
    "amt_data = tapply(myDF$TRANSACTION_AMT, pair, sum)\n",
    "tail(sort(amt_data), 20)\n"
   ]
  },
  {
   "cell_type": "markdown",
   "id": "b94795dd-ff54-4f00-b53c-12b941f6e6a2",
   "metadata": {},
   "source": [
    "Tried to be clever at first and remove the blank entries from city and state columns (as we did before). Then I got the error that the arguments had to be the same length, which made sense. Removed that code and everything run perfectly. Again, I split up the methods for my own sanity."
   ]
  },
  {
   "cell_type": "markdown",
   "id": "88c9cdac-3e92-498f-83fa-e089bfc44ac8",
   "metadata": {},
   "source": [
    "## Question 5"
   ]
  },
  {
   "cell_type": "code",
   "execution_count": 1,
   "id": "d370d7c9-06db-42b9-b75f-240481a5c491",
   "metadata": {},
   "outputs": [
    {
     "data": {
      "text/html": [
       "<style>\n",
       ".dl-inline {width: auto; margin:0; padding: 0}\n",
       ".dl-inline>dt, .dl-inline>dd {float: none; width: auto; display: inline-block}\n",
       ".dl-inline>dt::after {content: \":\\0020\"; padding-right: .5ex}\n",
       ".dl-inline>dt:not(:first-of-type) {padding-left: .5ex}\n",
       "</style><dl class=dl-inline><dt>12/20/1990</dt><dd>27.35</dd><dt>2/15/1990</dt><dd>28.12</dd><dt>2/16/1990</dt><dd>36.19</dd><dt>12/28/1990</dt><dd>43.91</dd><dt>12/22/1990</dt><dd>45.22</dd><dt>12/21/1990</dt><dd>45.66</dd></dl>\n"
      ],
      "text/latex": [
       "\\begin{description*}\n",
       "\\item[12/20/1990] 27.35\n",
       "\\item[2/15/1990] 28.12\n",
       "\\item[2/16/1990] 36.19\n",
       "\\item[12/28/1990] 43.91\n",
       "\\item[12/22/1990] 45.22\n",
       "\\item[12/21/1990] 45.66\n",
       "\\end{description*}\n"
      ],
      "text/markdown": [
       "12/20/1990\n",
       ":   27.352/15/1990\n",
       ":   28.122/16/1990\n",
       ":   36.1912/28/1990\n",
       ":   43.9112/22/1990\n",
       ":   45.2212/21/1990\n",
       ":   45.66\n",
       "\n"
      ],
      "text/plain": [
       "12/20/1990  2/15/1990  2/16/1990 12/28/1990 12/22/1990 12/21/1990 \n",
       "     27.35      28.12      36.19      43.91      45.22      45.66 "
      ]
     },
     "metadata": {},
     "output_type": "display_data"
    }
   ],
   "source": [
    "library(data.table)\n",
    "df_flights = fread(\"/anvil/projects/tdm/data/flights/subset/1990.csv\")\n",
    "\n",
    "triple = paste(df_flights$Month, df_flights$DayofMonth, df_flights$Year, sep=\"/\")\n",
    "flight_data = tapply(df_flights$DepDelay, triple, mean, na.rm=TRUE)\n",
    "round(tail(sort(flight_data), 6), digits=2)"
   ]
  },
  {
   "cell_type": "markdown",
   "id": "9b3ef1fc-9749-4db6-b451-99e3433a458d",
   "metadata": {},
   "source": [
    "Similar approach to question 4. Split up the paste, tapply, and tail/sort methods. Forgot to add na.rm=TRUE, so couldn't figure out why it wasn't printing anything for a while. A quick look back at the suggestion in the question put me back on track."
   ]
  },
  {
   "cell_type": "markdown",
   "id": "f76442d6-d02e-4f26-b9d6-c3183e1d6929",
   "metadata": {},
   "source": [
    "## Pledge\n",
    "\n",
    "By submitting this work I hereby pledge that this is my own, personal work. I've acknowledged in the designated place at the top of this file all sources that I used to complete said work, including but not limited to: online resources, books, and electronic communications. I've noted all collaboration with fellow students and/or TA's. I did not copy or plagiarize another's work.\n",
    "\n",
    "> As a Boilermaker pursuing academic excellence, I pledge to be honest and true in all that I do. Accountable together – We are Purdue."
   ]
  }
 ],
 "metadata": {
  "kernelspec": {
   "display_name": "seminar-r",
   "language": "R",
   "name": "seminar-r"
  },
  "language_info": {
   "codemirror_mode": "r",
   "file_extension": ".r",
   "mimetype": "text/x-r-source",
   "name": "R",
   "pygments_lexer": "r",
   "version": "4.3.1"
  }
 },
 "nbformat": 4,
 "nbformat_minor": 5
}
