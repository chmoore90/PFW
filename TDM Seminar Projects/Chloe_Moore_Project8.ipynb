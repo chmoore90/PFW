{
 "cells": [
  {
   "cell_type": "markdown",
   "id": "be02a957-7133-4d02-818e-fedeb3cecb05",
   "metadata": {},
   "source": [
    "# Project 8 -- Chloe Moore"
   ]
  },
  {
   "cell_type": "markdown",
   "id": "a1228853-dd19-4ab2-89e0-0394d7d72de3",
   "metadata": {},
   "source": [
    "**TA Help:** \n",
    "    \n",
    "**Collaboration:** "
   ]
  },
  {
   "cell_type": "markdown",
   "id": "6180e742-8e39-4698-98ff-5b00c8cf8ea0",
   "metadata": {},
   "source": [
    "## Question 1"
   ]
  },
  {
   "cell_type": "code",
   "execution_count": 1,
   "id": "49445606-d363-41b4-b479-e319a9a84c01",
   "metadata": {},
   "outputs": [],
   "source": [
    "library(data.table)\n",
    "deathDF = fread(\"/anvil/projects/tdm/data/death_records/DeathRecords.csv\")\n",
    "makeatable <- function(x) {prop.table(table(x, useNA=\"always\"))}"
   ]
  },
  {
   "cell_type": "code",
   "execution_count": 2,
   "id": "b197c813-ead0-4867-a5f3-7cfa50a4f86f",
   "metadata": {},
   "outputs": [
    {
     "data": {
      "text/plain": [
       "x\n",
       "        F         M      <NA> \n",
       "0.4939664 0.5060336 0.0000000 "
      ]
     },
     "metadata": {},
     "output_type": "display_data"
    }
   ],
   "source": [
    "# Part a\n",
    "makeatable(deathDF$Sex)"
   ]
  },
  {
   "cell_type": "code",
   "execution_count": 3,
   "id": "edc994f0-9a20-454c-a2a7-cac439836111",
   "metadata": {},
   "outputs": [
    {
     "data": {
      "text/plain": [
       "x\n",
       "          D           M           S           U           W        <NA> \n",
       "0.152388043 0.372463819 0.126575962 0.007112043 0.341460133 0.000000000 "
      ]
     },
     "metadata": {},
     "output_type": "display_data"
    }
   ],
   "source": [
    "# Part b\n",
    "makeatable(deathDF$MaritalStatus)"
   ]
  },
  {
   "cell_type": "markdown",
   "id": "3d145f97-1b0f-4223-b040-978e8d77ad78",
   "metadata": {},
   "source": [
    "Nice and straight forward. We use our own functions pretty much the same way as the ones that come with base R."
   ]
  },
  {
   "cell_type": "markdown",
   "id": "fc601975-35ed-4680-a4e1-0273ee3cc047",
   "metadata": {},
   "source": [
    "## Question 2"
   ]
  },
  {
   "cell_type": "code",
   "execution_count": 4,
   "id": "a16336a1-1ef0-41e8-bc7c-49387db27497",
   "metadata": {},
   "outputs": [],
   "source": [
    "teenagecount <- function(x) {length(x[(x >= 13) & (x <= 19) & (!is.na(x))])}"
   ]
  },
  {
   "cell_type": "code",
   "execution_count": 5,
   "id": "80c6e947-f441-4a7b-a346-85db83194d9d",
   "metadata": {},
   "outputs": [
    {
     "data": {
      "text/html": [
       "12643"
      ],
      "text/latex": [
       "12643"
      ],
      "text/markdown": [
       "12643"
      ],
      "text/plain": [
       "[1] 12643"
      ]
     },
     "metadata": {},
     "output_type": "display_data"
    }
   ],
   "source": [
    "# Part a\n",
    "teenagecount(deathDF$Age)"
   ]
  },
  {
   "cell_type": "code",
   "execution_count": 6,
   "id": "672462bc-877d-470a-b9ae-d0f560ff8b0c",
   "metadata": {},
   "outputs": [
    {
     "data": {
      "text/html": [
       "32250"
      ],
      "text/latex": [
       "32250"
      ],
      "text/markdown": [
       "32250"
      ],
      "text/plain": [
       "[1] 32250"
      ]
     },
     "metadata": {},
     "output_type": "display_data"
    }
   ],
   "source": [
    "# Part b\n",
    "eventsDF = fread(\"/anvil/projects/tdm/data/olympics/athlete_events.csv\")\n",
    "teenagecount(eventsDF$Age)"
   ]
  },
  {
   "cell_type": "markdown",
   "id": "303d9a3a-d927-4940-898f-d1d8758ca557",
   "metadata": {},
   "source": [
    "Also straight forward."
   ]
  },
  {
   "cell_type": "markdown",
   "id": "8e586edd-ff26-4ce2-8f6b-2424b26f2929",
   "metadata": {},
   "source": [
    "## Question 3"
   ]
  },
  {
   "cell_type": "code",
   "execution_count": 7,
   "id": "bbe0f40d-9655-4653-9ca8-886bdb61cb91",
   "metadata": {},
   "outputs": [],
   "source": [
    "longesttest <- function(x) {x[which.max(nchar(x))]}"
   ]
  },
  {
   "cell_type": "code",
   "execution_count": 8,
   "id": "13a668b6-e740-4cc6-98ae-b960d8770c8f",
   "metadata": {},
   "outputs": [
    {
     "data": {
      "text/html": [
       "'\\302\\240\\302\\240 32 fl oz brown glass Alesmith grumbler filled earlier today at The Growler Room in Austin, Texas, and stored in my fridge until consumption. Served into a Spaten stangekrug. Reviewed at low altitude live here in Austin on 08/31/13. Cost was $ $21 USD. Expectations are sky high given both its current ratings and the description \\342\\200\\223 which makes it sound tasty. This is my first Texan sour. Served frigid cold and allowed to warm following the initial pour. Side-poured with extra vigor as slight carbonation issues are anticipated given that it\\342\\200\\231s a growler pour. A: No bubble show forms as I pour. Pours a one finger wide head of gorgeous khaki colour. Great creaminess \\342\\200\\223 reminiscent actually of an Irish Dry Stout\\342\\200\\231s head. Good thickness. Supple. Has an appealing soft complexion. Okay lacing; some legs cling to the sides of the glass when I tilt it, but they quickly fall. Retention is pretty good \\342\\200\\223 about 3-4 minutes; not too shabby for a growler pour. Body colour is a nontransparent murky caramel-brown. Some light glowing translucency near the bottom of the glass; it\\342\\200\\231s certainly not opaque. No yeast particles are visible. It\\342\\200\\231s not incredible to look at, but there\\342\\200\\231s nothing overtly wrong with it. Looking forward to trying it. Sm: Tart acetic cherries, cherry pie crust, and accompanying sourness. It\\342\\200\\231s got more of a Flanders Red feel than anything else. Very light funkiness. I\\342\\200\\231m very impressed with the yeast-derived sourness and I\\342\\200\\231m rather curious what strain was used; this doesn\\342\\200\\231t have the sterile clinical feel of a sour brewed purely with lactobacillus (at least based on the aroma) \\342\\200\\223 there\\342\\200\\231s more complexity here, and the combination of well-integrated sourness with a subtle funkiness and complex tart character approximates lambic yeast. The yeast alone elevates the aroma beyond that of most wild ales. Unlike many subpar \\342\\200\\234wild\\342\\200\\235 ales, this one actually smells like it\\342\\200\\231s still alive \\342\\200\\223 and I don\\342\\200\\231t find myself doubting that wild yeast and bacteria were used in fermentation. It stops a bit short of evoking true spontaneous open fermentation, but I\\342\\200\\231m nitpicking. Very buried hints of vanilla and maple; they\\342\\200\\231re by no means overt. Layered caramel and biscuit malts. As it warms, the otherwise reticent oak notes begin to creep out; I don\\342\\200\\231t know that I\\342\\200\\231d say they\\342\\200\\231re evocative of a barrel per se. The cherry notes are dominant, a sound choice. No alcohol is detectable, nor is any significant hop character. A damn fine aroma for an American sour. Mild in strength, with well-executed subtlety. I\\342\\200\\231m impressed. I just hope the taste lives up to the smell. T: Tart cherries, acetic cherry pie crust notes (though not as prominent as I\\342\\200\\231d like), and a pleasant core sourness throughout are the first things I notice. It\\342\\200\\231s got a clean simple open comprised mainly of biscuit malts with a dash of caramalt in there too, a malty combination that continues on through the second act to form the body of the beer. Luckily, the malts don\\342\\200\\231t intrude and the beer\\342\\200\\231s sourness is allowed to take centre stage. Speaking of the sourness, it\\342\\200\\231s by no means puckerworthy. It\\342\\200\\231s somewhat tame yet still satisfying. This would be a good introduction to (American) sours for a beginner. Acidic. I have to retract what I said about the yeast above; it by no means approximates lambic yeast in the actual taste, and does suffer from the same sterile, clean, clinical feel of most American wild ales/sours. Unfortunate. Oak is present as a guiding undertone. Luckily, those vanilla and maple notes from the aroma are near imperceptible. No hop character or alcohol comes through. It\\342\\200\\231s got a good balance to it, and it\\342\\200\\231s nearest a Flanders Red Ale in terms of build. That said, it lacks the complexity of the best beers in that style; in fact, I\\342\\200\\231d say even Rodenbach Classic has a superior build in that respect. There is some nice subtlety here, but ultimately the second act feels a bit empty. More flavour depth and diversity is needed. Flavour duration and intensity are about average. Mf: Smooth and wet. Not oily, hot, gushed, or boozy. Acidic. Pretty good thickness and presence on the palate, if a bit unrefined for the style. Fits the attempted style well, but it doesn\\342\\200\\231t feel custom-tailored to this beer\\342\\200\\231s flavour profile specifically. Decent body. I would by no means call this a crisp beer. It\\342\\200\\231s undercarbonated, but I\\342\\200\\231m confident blaming that on the growler. I find myself tempted to smack my lips a biteen whilst consuming it; I consider that a good thing for a sour. Dr: Solid Flanders Red mimicry from the Yanks at Real Ale. I haven\\342\\200\\231t had the base beer, which I understand is their \\342\\200\\234Real Heavy\\342\\200\\235 scotch ale, but the beer never seems to out its base \\342\\200\\223 which seems favorable for a sour. I wouldn\\342\\200\\231t know the base was a wee heavy if I tried it blind, and I consider that alone a feat. This is ultimately a success from Real Ale, though the high price point as well as the availability of better cheaper offerings in the style will prevent me from buying it again. B- \\302\\240'"
      ],
      "text/latex": [
       "'\\textbackslash{}302\\textbackslash{}240\\textbackslash{}302\\textbackslash{}240 32 fl oz brown glass Alesmith grumbler filled earlier today at The Growler Room in Austin, Texas, and stored in my fridge until consumption. Served into a Spaten stangekrug. Reviewed at low altitude live here in Austin on 08/31/13. Cost was \\$ \\$21 USD. Expectations are sky high given both its current ratings and the description \\textbackslash{}342\\textbackslash{}200\\textbackslash{}223 which makes it sound tasty. This is my first Texan sour. Served frigid cold and allowed to warm following the initial pour. Side-poured with extra vigor as slight carbonation issues are anticipated given that it\\textbackslash{}342\\textbackslash{}200\\textbackslash{}231s a growler pour. A: No bubble show forms as I pour. Pours a one finger wide head of gorgeous khaki colour. Great creaminess \\textbackslash{}342\\textbackslash{}200\\textbackslash{}223 reminiscent actually of an Irish Dry Stout\\textbackslash{}342\\textbackslash{}200\\textbackslash{}231s head. Good thickness. Supple. Has an appealing soft complexion. Okay lacing; some legs cling to the sides of the glass when I tilt it, but they quickly fall. Retention is pretty good \\textbackslash{}342\\textbackslash{}200\\textbackslash{}223 about 3-4 minutes; not too shabby for a growler pour. Body colour is a nontransparent murky caramel-brown. Some light glowing translucency near the bottom of the glass; it\\textbackslash{}342\\textbackslash{}200\\textbackslash{}231s certainly not opaque. No yeast particles are visible. It\\textbackslash{}342\\textbackslash{}200\\textbackslash{}231s not incredible to look at, but there\\textbackslash{}342\\textbackslash{}200\\textbackslash{}231s nothing overtly wrong with it. Looking forward to trying it. Sm: Tart acetic cherries, cherry pie crust, and accompanying sourness. It\\textbackslash{}342\\textbackslash{}200\\textbackslash{}231s got more of a Flanders Red feel than anything else. Very light funkiness. I\\textbackslash{}342\\textbackslash{}200\\textbackslash{}231m very impressed with the yeast-derived sourness and I\\textbackslash{}342\\textbackslash{}200\\textbackslash{}231m rather curious what strain was used; this doesn\\textbackslash{}342\\textbackslash{}200\\textbackslash{}231t have the sterile clinical feel of a sour brewed purely with lactobacillus (at least based on the aroma) \\textbackslash{}342\\textbackslash{}200\\textbackslash{}223 there\\textbackslash{}342\\textbackslash{}200\\textbackslash{}231s more complexity here, and the combination of well-integrated sourness with a subtle funkiness and complex tart character approximates lambic yeast. The yeast alone elevates the aroma beyond that of most wild ales. Unlike many subpar \\textbackslash{}342\\textbackslash{}200\\textbackslash{}234wild\\textbackslash{}342\\textbackslash{}200\\textbackslash{}235 ales, this one actually smells like it\\textbackslash{}342\\textbackslash{}200\\textbackslash{}231s still alive \\textbackslash{}342\\textbackslash{}200\\textbackslash{}223 and I don\\textbackslash{}342\\textbackslash{}200\\textbackslash{}231t find myself doubting that wild yeast and bacteria were used in fermentation. It stops a bit short of evoking true spontaneous open fermentation, but I\\textbackslash{}342\\textbackslash{}200\\textbackslash{}231m nitpicking. Very buried hints of vanilla and maple; they\\textbackslash{}342\\textbackslash{}200\\textbackslash{}231re by no means overt. Layered caramel and biscuit malts. As it warms, the otherwise reticent oak notes begin to creep out; I don\\textbackslash{}342\\textbackslash{}200\\textbackslash{}231t know that I\\textbackslash{}342\\textbackslash{}200\\textbackslash{}231d say they\\textbackslash{}342\\textbackslash{}200\\textbackslash{}231re evocative of a barrel per se. The cherry notes are dominant, a sound choice. No alcohol is detectable, nor is any significant hop character. A damn fine aroma for an American sour. Mild in strength, with well-executed subtlety. I\\textbackslash{}342\\textbackslash{}200\\textbackslash{}231m impressed. I just hope the taste lives up to the smell. T: Tart cherries, acetic cherry pie crust notes (though not as prominent as I\\textbackslash{}342\\textbackslash{}200\\textbackslash{}231d like), and a pleasant core sourness throughout are the first things I notice. It\\textbackslash{}342\\textbackslash{}200\\textbackslash{}231s got a clean simple open comprised mainly of biscuit malts with a dash of caramalt in there too, a malty combination that continues on through the second act to form the body of the beer. Luckily, the malts don\\textbackslash{}342\\textbackslash{}200\\textbackslash{}231t intrude and the beer\\textbackslash{}342\\textbackslash{}200\\textbackslash{}231s sourness is allowed to take centre stage. Speaking of the sourness, it\\textbackslash{}342\\textbackslash{}200\\textbackslash{}231s by no means puckerworthy. It\\textbackslash{}342\\textbackslash{}200\\textbackslash{}231s somewhat tame yet still satisfying. This would be a good introduction to (American) sours for a beginner. Acidic. I have to retract what I said about the yeast above; it by no means approximates lambic yeast in the actual taste, and does suffer from the same sterile, clean, clinical feel of most American wild ales/sours. Unfortunate. Oak is present as a guiding undertone. Luckily, those vanilla and maple notes from the aroma are near imperceptible. No hop character or alcohol comes through. It\\textbackslash{}342\\textbackslash{}200\\textbackslash{}231s got a good balance to it, and it\\textbackslash{}342\\textbackslash{}200\\textbackslash{}231s nearest a Flanders Red Ale in terms of build. That said, it lacks the complexity of the best beers in that style; in fact, I\\textbackslash{}342\\textbackslash{}200\\textbackslash{}231d say even Rodenbach Classic has a superior build in that respect. There is some nice subtlety here, but ultimately the second act feels a bit empty. More flavour depth and diversity is needed. Flavour duration and intensity are about average. Mf: Smooth and wet. Not oily, hot, gushed, or boozy. Acidic. Pretty good thickness and presence on the palate, if a bit unrefined for the style. Fits the attempted style well, but it doesn\\textbackslash{}342\\textbackslash{}200\\textbackslash{}231t feel custom-tailored to this beer\\textbackslash{}342\\textbackslash{}200\\textbackslash{}231s flavour profile specifically. Decent body. I would by no means call this a crisp beer. It\\textbackslash{}342\\textbackslash{}200\\textbackslash{}231s undercarbonated, but I\\textbackslash{}342\\textbackslash{}200\\textbackslash{}231m confident blaming that on the growler. I find myself tempted to smack my lips a biteen whilst consuming it; I consider that a good thing for a sour. Dr: Solid Flanders Red mimicry from the Yanks at Real Ale. I haven\\textbackslash{}342\\textbackslash{}200\\textbackslash{}231t had the base beer, which I understand is their \\textbackslash{}342\\textbackslash{}200\\textbackslash{}234Real Heavy\\textbackslash{}342\\textbackslash{}200\\textbackslash{}235 scotch ale, but the beer never seems to out its base \\textbackslash{}342\\textbackslash{}200\\textbackslash{}223 which seems favorable for a sour. I wouldn\\textbackslash{}342\\textbackslash{}200\\textbackslash{}231t know the base was a wee heavy if I tried it blind, and I consider that alone a feat. This is ultimately a success from Real Ale, though the high price point as well as the availability of better cheaper offerings in the style will prevent me from buying it again. B- \\textbackslash{}302\\textbackslash{}240'"
      ],
      "text/markdown": [
       "'\\302\\240\\302\\240 32 fl oz brown glass Alesmith grumbler filled earlier today at The Growler Room in Austin, Texas, and stored in my fridge until consumption. Served into a Spaten stangekrug. Reviewed at low altitude live here in Austin on 08/31/13. Cost was $ $21 USD. Expectations are sky high given both its current ratings and the description \\342\\200\\223 which makes it sound tasty. This is my first Texan sour. Served frigid cold and allowed to warm following the initial pour. Side-poured with extra vigor as slight carbonation issues are anticipated given that it\\342\\200\\231s a growler pour. A: No bubble show forms as I pour. Pours a one finger wide head of gorgeous khaki colour. Great creaminess \\342\\200\\223 reminiscent actually of an Irish Dry Stout\\342\\200\\231s head. Good thickness. Supple. Has an appealing soft complexion. Okay lacing; some legs cling to the sides of the glass when I tilt it, but they quickly fall. Retention is pretty good \\342\\200\\223 about 3-4 minutes; not too shabby for a growler pour. Body colour is a nontransparent murky caramel-brown. Some light glowing translucency near the bottom of the glass; it\\342\\200\\231s certainly not opaque. No yeast particles are visible. It\\342\\200\\231s not incredible to look at, but there\\342\\200\\231s nothing overtly wrong with it. Looking forward to trying it. Sm: Tart acetic cherries, cherry pie crust, and accompanying sourness. It\\342\\200\\231s got more of a Flanders Red feel than anything else. Very light funkiness. I\\342\\200\\231m very impressed with the yeast-derived sourness and I\\342\\200\\231m rather curious what strain was used; this doesn\\342\\200\\231t have the sterile clinical feel of a sour brewed purely with lactobacillus (at least based on the aroma) \\342\\200\\223 there\\342\\200\\231s more complexity here, and the combination of well-integrated sourness with a subtle funkiness and complex tart character approximates lambic yeast. The yeast alone elevates the aroma beyond that of most wild ales. Unlike many subpar \\342\\200\\234wild\\342\\200\\235 ales, this one actually smells like it\\342\\200\\231s still alive \\342\\200\\223 and I don\\342\\200\\231t find myself doubting that wild yeast and bacteria were used in fermentation. It stops a bit short of evoking true spontaneous open fermentation, but I\\342\\200\\231m nitpicking. Very buried hints of vanilla and maple; they\\342\\200\\231re by no means overt. Layered caramel and biscuit malts. As it warms, the otherwise reticent oak notes begin to creep out; I don\\342\\200\\231t know that I\\342\\200\\231d say they\\342\\200\\231re evocative of a barrel per se. The cherry notes are dominant, a sound choice. No alcohol is detectable, nor is any significant hop character. A damn fine aroma for an American sour. Mild in strength, with well-executed subtlety. I\\342\\200\\231m impressed. I just hope the taste lives up to the smell. T: Tart cherries, acetic cherry pie crust notes (though not as prominent as I\\342\\200\\231d like), and a pleasant core sourness throughout are the first things I notice. It\\342\\200\\231s got a clean simple open comprised mainly of biscuit malts with a dash of caramalt in there too, a malty combination that continues on through the second act to form the body of the beer. Luckily, the malts don\\342\\200\\231t intrude and the beer\\342\\200\\231s sourness is allowed to take centre stage. Speaking of the sourness, it\\342\\200\\231s by no means puckerworthy. It\\342\\200\\231s somewhat tame yet still satisfying. This would be a good introduction to (American) sours for a beginner. Acidic. I have to retract what I said about the yeast above; it by no means approximates lambic yeast in the actual taste, and does suffer from the same sterile, clean, clinical feel of most American wild ales/sours. Unfortunate. Oak is present as a guiding undertone. Luckily, those vanilla and maple notes from the aroma are near imperceptible. No hop character or alcohol comes through. It\\342\\200\\231s got a good balance to it, and it\\342\\200\\231s nearest a Flanders Red Ale in terms of build. That said, it lacks the complexity of the best beers in that style; in fact, I\\342\\200\\231d say even Rodenbach Classic has a superior build in that respect. There is some nice subtlety here, but ultimately the second act feels a bit empty. More flavour depth and diversity is needed. Flavour duration and intensity are about average. Mf: Smooth and wet. Not oily, hot, gushed, or boozy. Acidic. Pretty good thickness and presence on the palate, if a bit unrefined for the style. Fits the attempted style well, but it doesn\\342\\200\\231t feel custom-tailored to this beer\\342\\200\\231s flavour profile specifically. Decent body. I would by no means call this a crisp beer. It\\342\\200\\231s undercarbonated, but I\\342\\200\\231m confident blaming that on the growler. I find myself tempted to smack my lips a biteen whilst consuming it; I consider that a good thing for a sour. Dr: Solid Flanders Red mimicry from the Yanks at Real Ale. I haven\\342\\200\\231t had the base beer, which I understand is their \\342\\200\\234Real Heavy\\342\\200\\235 scotch ale, but the beer never seems to out its base \\342\\200\\223 which seems favorable for a sour. I wouldn\\342\\200\\231t know the base was a wee heavy if I tried it blind, and I consider that alone a feat. This is ultimately a success from Real Ale, though the high price point as well as the availability of better cheaper offerings in the style will prevent me from buying it again. B- \\302\\240'"
      ],
      "text/plain": [
       "[1] \"\\302\\240\\302\\240 32 fl oz brown glass Alesmith grumbler filled earlier today at The Growler Room in Austin, Texas, and stored in my fridge until consumption. Served into a Spaten stangekrug. Reviewed at low altitude live here in Austin on 08/31/13. Cost was $ $21 USD. Expectations are sky high given both its current ratings and the description \\342\\200\\223 which makes it sound tasty. This is my first Texan sour. Served frigid cold and allowed to warm following the initial pour. Side-poured with extra vigor as slight carbonation issues are anticipated given that it\\342\\200\\231s a growler pour. A: No bubble show forms as I pour. Pours a one finger wide head of gorgeous khaki colour. Great creaminess \\342\\200\\223 reminiscent actually of an Irish Dry Stout\\342\\200\\231s head. Good thickness. Supple. Has an appealing soft complexion. Okay lacing; some legs cling to the sides of the glass when I tilt it, but they quickly fall. Retention is pretty good \\342\\200\\223 about 3-4 minutes; not too shabby for a growler pour. Body colour is a nontransparent murky caramel-brown. Some light glowing translucency near the bottom of the glass; it\\342\\200\\231s certainly not opaque. No yeast particles are visible. It\\342\\200\\231s not incredible to look at, but there\\342\\200\\231s nothing overtly wrong with it. Looking forward to trying it. Sm: Tart acetic cherries, cherry pie crust, and accompanying sourness. It\\342\\200\\231s got more of a Flanders Red feel than anything else. Very light funkiness. I\\342\\200\\231m very impressed with the yeast-derived sourness and I\\342\\200\\231m rather curious what strain was used; this doesn\\342\\200\\231t have the sterile clinical feel of a sour brewed purely with lactobacillus (at least based on the aroma) \\342\\200\\223 there\\342\\200\\231s more complexity here, and the combination of well-integrated sourness with a subtle funkiness and complex tart character approximates lambic yeast. The yeast alone elevates the aroma beyond that of most wild ales. Unlike many subpar \\342\\200\\234wild\\342\\200\\235 ales, this one actually smells like it\\342\\200\\231s still alive \\342\\200\\223 and I don\\342\\200\\231t find myself doubting that wild yeast and bacteria were used in fermentation. It stops a bit short of evoking true spontaneous open fermentation, but I\\342\\200\\231m nitpicking. Very buried hints of vanilla and maple; they\\342\\200\\231re by no means overt. Layered caramel and biscuit malts. As it warms, the otherwise reticent oak notes begin to creep out; I don\\342\\200\\231t know that I\\342\\200\\231d say they\\342\\200\\231re evocative of a barrel per se. The cherry notes are dominant, a sound choice. No alcohol is detectable, nor is any significant hop character. A damn fine aroma for an American sour. Mild in strength, with well-executed subtlety. I\\342\\200\\231m impressed. I just hope the taste lives up to the smell. T: Tart cherries, acetic cherry pie crust notes (though not as prominent as I\\342\\200\\231d like), and a pleasant core sourness throughout are the first things I notice. It\\342\\200\\231s got a clean simple open comprised mainly of biscuit malts with a dash of caramalt in there too, a malty combination that continues on through the second act to form the body of the beer. Luckily, the malts don\\342\\200\\231t intrude and the beer\\342\\200\\231s sourness is allowed to take centre stage. Speaking of the sourness, it\\342\\200\\231s by no means puckerworthy. It\\342\\200\\231s somewhat tame yet still satisfying. This would be a good introduction to (American) sours for a beginner. Acidic. I have to retract what I said about the yeast above; it by no means approximates lambic yeast in the actual taste, and does suffer from the same sterile, clean, clinical feel of most American wild ales/sours. Unfortunate. Oak is present as a guiding undertone. Luckily, those vanilla and maple notes from the aroma are near imperceptible. No hop character or alcohol comes through. It\\342\\200\\231s got a good balance to it, and it\\342\\200\\231s nearest a Flanders Red Ale in terms of build. That said, it lacks the complexity of the best beers in that style; in fact, I\\342\\200\\231d say even Rodenbach Classic has a superior build in that respect. There is some nice subtlety here, but ultimately the second act feels a bit empty. More flavour depth and diversity is needed. Flavour duration and intensity are about average. Mf: Smooth and wet. Not oily, hot, gushed, or boozy. Acidic. Pretty good thickness and presence on the palate, if a bit unrefined for the style. Fits the attempted style well, but it doesn\\342\\200\\231t feel custom-tailored to this beer\\342\\200\\231s flavour profile specifically. Decent body. I would by no means call this a crisp beer. It\\342\\200\\231s undercarbonated, but I\\342\\200\\231m confident blaming that on the growler. I find myself tempted to smack my lips a biteen whilst consuming it; I consider that a good thing for a sour. Dr: Solid Flanders Red mimicry from the Yanks at Real Ale. I haven\\342\\200\\231t had the base beer, which I understand is their \\342\\200\\234Real Heavy\\342\\200\\235 scotch ale, but the beer never seems to out its base \\342\\200\\223 which seems favorable for a sour. I wouldn\\342\\200\\231t know the base was a wee heavy if I tried it blind, and I consider that alone a feat. This is ultimately a success from Real Ale, though the high price point as well as the availability of better cheaper offerings in the style will prevent me from buying it again. B- \\302\\240\""
      ]
     },
     "metadata": {},
     "output_type": "display_data"
    }
   ],
   "source": [
    "# Part a\n",
    "beerDF = fread(\"/anvil/projects/tdm/data/beer/reviews_sample.csv\")\n",
    "longesttest(beerDF$text)"
   ]
  },
  {
   "cell_type": "code",
   "execution_count": 9,
   "id": "7342015b-c5f2-4f63-9998-a7b038ecc398",
   "metadata": {},
   "outputs": [
    {
     "data": {
      "text/html": [
       "'REPUBLICAN NATIONAL COMMITTEE - CONTRIBUTIONS (AKA REPUBLICAN NATIONAL FINANCE COMMITTEE'"
      ],
      "text/latex": [
       "'REPUBLICAN NATIONAL COMMITTEE - CONTRIBUTIONS (AKA REPUBLICAN NATIONAL FINANCE COMMITTEE'"
      ],
      "text/markdown": [
       "'REPUBLICAN NATIONAL COMMITTEE - CONTRIBUTIONS (AKA REPUBLICAN NATIONAL FINANCE COMMITTEE'"
      ],
      "text/plain": [
       "[1] \"REPUBLICAN NATIONAL COMMITTEE - CONTRIBUTIONS (AKA REPUBLICAN NATIONAL FINANCE COMMITTEE\""
      ]
     },
     "metadata": {},
     "output_type": "display_data"
    }
   ],
   "source": [
    "# Part b\n",
    "myDF <- fread(\"/anvil/projects/tdm/data/election/itcont1980.txt\", quote=\"\")\n",
    "names(myDF) <- c(\"CMTE_ID\", \"AMNDT_IND\", \"RPT_TP\", \"TRANSACTION_PGI\", \"IMAGE_NUM\", \"TRANSACTION_TP\", \"ENTITY_TP\", \"NAME\", \"CITY\", \"STATE\", \"ZIP_CODE\", \"EMPLOYER\", \"OCCUPATION\", \"TRANSACTION_DT\", \"TRANSACTION_AMT\", \"OTHER_ID\", \"TRAN_ID\", \"FILE_NUM\", \"MEMO_CD\", \"MEMO_TEXT\", \"SUB_ID\")\n",
    "\n",
    "longesttest(myDF$NAME)"
   ]
  },
  {
   "cell_type": "markdown",
   "id": "780b00b8-00f4-487a-a332-d4e159b90262",
   "metadata": {},
   "source": [
    "Not sure why some of the characters in the review didn't render correctly. At the very least \"\\342\\200\\231\" seems to appear where there should be a comma (for example, it shows up in between \"I\" and \"m\", where the user probably wrote \"I'm\"). After reading some of the questions on Piazza related to others who had this issue, I decided to leave it as it was. Dr. Ward responded saying they were likely incorrectly displayed Unicode characters and we weren't getting into the details of that right now. "
   ]
  },
  {
   "cell_type": "markdown",
   "id": "da22f29c-d245-4d2b-9fc1-ca14cb6087d9",
   "metadata": {},
   "source": [
    "## Question 4"
   ]
  },
  {
   "cell_type": "code",
   "execution_count": 10,
   "id": "8cffc767-d1c8-4d64-b7dc-f0d2ee8a80d1",
   "metadata": {},
   "outputs": [],
   "source": [
    "# Part a\n",
    "mostpopulardate = function(x) {tail(sort((table(x))), n=1)}"
   ]
  },
  {
   "cell_type": "code",
   "execution_count": 11,
   "id": "c5522100-64ae-41ab-8bc8-abce0cc9b9dc",
   "metadata": {},
   "outputs": [
    {
     "data": {
      "text/plain": [
       "x\n",
       "2011-11-15 \n",
       "      1497 "
      ]
     },
     "metadata": {},
     "output_type": "display_data"
    }
   ],
   "source": [
    "# Part b\n",
    "mostpopulardate(beerDF$date)    "
   ]
  },
  {
   "cell_type": "code",
   "execution_count": 12,
   "id": "d370d7c9-06db-42b9-b75f-240481a5c491",
   "metadata": {},
   "outputs": [
    {
     "data": {
      "text/plain": [
       "x\n",
       "12311979 \n",
       "    2562 "
      ]
     },
     "metadata": {},
     "output_type": "display_data"
    }
   ],
   "source": [
    "# Part c\n",
    "mostpopulardate(myDF$TRANSACTION_DT)"
   ]
  },
  {
   "cell_type": "code",
   "execution_count": 13,
   "id": "d9e7bf93-40a8-41c9-9d5a-936ea533ff7a",
   "metadata": {},
   "outputs": [
    {
     "data": {
      "text/html": [
       "<strong>2011-11-15:</strong> 3704"
      ],
      "text/latex": [
       "\\textbf{2011-11-15:} 3704"
      ],
      "text/markdown": [
       "**2011-11-15:** 3704"
      ],
      "text/plain": [
       "2011-11-15 \n",
       "      3704 "
      ]
     },
     "metadata": {},
     "output_type": "display_data"
    }
   ],
   "source": [
    "mdate = function(x) {which.max(table(x))}\n",
    "mdate(beerDF$date)"
   ]
  },
  {
   "cell_type": "markdown",
   "id": "a07a871c-d29e-4635-82ce-c06443d393f0",
   "metadata": {},
   "source": [
    "I also attemped to answer this question using this code: mostpopulardate = function(x) {which.max(table(x))}. I figured I'd get the same answer using which.max() as I did using tail() and sort(), but that wasn't the case. Using which.max gave me the same date, but a value of 3704. Since there were some issues in question 3 where which.max was reading some unicode characters incorrectly, I think that might be why the answer was different and, likely, incorrect. So I "
   ]
  },
  {
   "cell_type": "markdown",
   "id": "b58b6465-47f8-4aeb-bce6-6b15451778b8",
   "metadata": {},
   "source": [
    "## Question 5"
   ]
  },
  {
   "cell_type": "code",
   "execution_count": null,
   "id": "bea3be15-e9bc-4d13-8214-ac3d06d5ebef",
   "metadata": {},
   "outputs": [],
   "source": [
    "# Part a\n",
    "library(data.table)\n",
    "flightsDF = fread(\"/anvil/projects/tdm/data/flights/subset/1990.csv\")\n",
    "myaveragedelay = function(x) {mean(flightsDF$DepDelay[flightsDF$Origin == x], na.rm=TRUE)}"
   ]
  },
  {
   "cell_type": "code",
   "execution_count": null,
   "id": "9a70f84f-7403-484f-98bf-d061c90db16b",
   "metadata": {},
   "outputs": [],
   "source": [
    "# Part b\n",
    "myaveragedelay(\"IND\")"
   ]
  },
  {
   "cell_type": "code",
   "execution_count": null,
   "id": "1d1c2ef8-f5cc-4c84-a3c1-99635f3a3440",
   "metadata": {},
   "outputs": [],
   "source": [
    "# Part c\n",
    "myaveragedelay(\"JFK\")"
   ]
  },
  {
   "cell_type": "markdown",
   "id": "f76442d6-d02e-4f26-b9d6-c3183e1d6929",
   "metadata": {},
   "source": [
    "## Pledge\n",
    "\n",
    "By submitting this work I hereby pledge that this is my own, personal work. I've acknowledged in the designated place at the top of this file all sources that I used to complete said work, including but not limited to: online resources, books, and electronic communications. I've noted all collaboration with fellow students and/or TA's. I did not copy or plagiarize another's work.\n",
    "\n",
    "> As a Boilermaker pursuing academic excellence, I pledge to be honest and true in all that I do. Accountable together – We are Purdue."
   ]
  }
 ],
 "metadata": {
  "kernelspec": {
   "display_name": "seminar-r",
   "language": "R",
   "name": "seminar-r"
  },
  "language_info": {
   "codemirror_mode": "r",
   "file_extension": ".r",
   "mimetype": "text/x-r-source",
   "name": "R",
   "pygments_lexer": "r",
   "version": "4.4.1"
  }
 },
 "nbformat": 4,
 "nbformat_minor": 5
}
