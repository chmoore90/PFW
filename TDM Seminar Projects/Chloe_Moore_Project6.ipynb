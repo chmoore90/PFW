{
 "cells": [
  {
   "cell_type": "markdown",
   "id": "be02a957-7133-4d02-818e-fedeb3cecb05",
   "metadata": {},
   "source": [
    "# Project 6 -- Chloe Moore"
   ]
  },
  {
   "cell_type": "markdown",
   "id": "a1228853-dd19-4ab2-89e0-0394d7d72de3",
   "metadata": {},
   "source": [
    "**TA Help:** \n",
    "    \n",
    "**Collaboration:** "
   ]
  },
  {
   "cell_type": "markdown",
   "id": "6180e742-8e39-4698-98ff-5b00c8cf8ea0",
   "metadata": {},
   "source": [
    "## Question 1"
   ]
  },
  {
   "cell_type": "code",
   "execution_count": 1,
   "id": "49445606-d363-41b4-b479-e319a9a84c01",
   "metadata": {},
   "outputs": [],
   "source": [
    "library(data.table)\n",
    "deathDF = fread(\"/anvil/projects/tdm/data/death_records/DeathRecords.csv\")"
   ]
  },
  {
   "cell_type": "code",
   "execution_count": 2,
   "id": "d3da55a4-4a59-476f-aa7b-b6ddb1c9a6d0",
   "metadata": {},
   "outputs": [
    {
     "data": {
      "text/plain": [
       "\n",
       "      1       2       3       4       5       6       7      18      28      38 \n",
       "2241510  309504   18031   13297    8159     700   11074    6778    4711     623 \n",
       "     48      58      68      78 \n",
       "   4913     316    8737    2818 "
      ]
     },
     "metadata": {},
     "output_type": "display_data"
    }
   ],
   "source": [
    "# Part a\n",
    "table(deathDF$Race)"
   ]
  },
  {
   "cell_type": "markdown",
   "id": "86f71791-bdfc-413e-9405-2baf2417dd54",
   "metadata": {},
   "source": [
    "Filipino race is 7, so there are 11074. For readability, it would be nice to map a dictionary with the written names, but using numbers is definitely easier for writing code."
   ]
  },
  {
   "cell_type": "code",
   "execution_count": 3,
   "id": "46b09bad-cdf5-4d04-83b3-6a412c3c8335",
   "metadata": {},
   "outputs": [
    {
     "data": {
      "image/png": "[encoded data removed]",
      "text/plain": [
       "plot without title"
      ]
     },
     "metadata": {
      "image/png": {
       "height": 420,
       "width": 420
      }
     },
     "output_type": "display_data"
    }
   ],
   "source": [
    "# Part b\n",
    "filipino = table(deathDF$Age[(deathDF$Race == 7) & (deathDF$Age < 999)])\n",
    "plot(filipino)"
   ]
  },
  {
   "cell_type": "markdown",
   "id": "4089a02a-8e24-40a0-be31-f349df818914",
   "metadata": {},
   "source": [
    "This feels very similar to using subsets. I like how indexing doesn't use as many methods (subset), but I do find it harder to keep track of where my variables are ."
   ]
  },
  {
   "cell_type": "markdown",
   "id": "fc601975-35ed-4680-a4e1-0273ee3cc047",
   "metadata": {},
   "source": [
    "## Question 2"
   ]
  },
  {
   "cell_type": "code",
   "execution_count": 4,
   "id": "a16336a1-1ef0-41e8-bc7c-49387db27497",
   "metadata": {},
   "outputs": [
    {
     "data": {
      "text/plain": [
       "\n",
       "CENTRAL    EAST   SOUTH    WEST \n",
       "   2750    3269    2675    3952 "
      ]
     },
     "metadata": {},
     "output_type": "display_data"
    }
   ],
   "source": [
    "groceriesDF = fread(\"/anvil/projects/tdm/data/8451/The_Complete_Journey_2_Master/5000_transactions.csv\")\n",
    "\n",
    "refunds = table(groceriesDF$STORE_R[groceriesDF$SPEND < 0])\n",
    "refunds"
   ]
  },
  {
   "cell_type": "markdown",
   "id": "56a551d7-af88-4994-99bb-1f07389b4220",
   "metadata": {},
   "source": [
    "I'm curious if there's a generally accepted \"best practice\" on using indexing vs. subsetting. Subsetting is more intuitive to write (for me)."
   ]
  },
  {
   "cell_type": "markdown",
   "id": "8e586edd-ff26-4ce2-8f6b-2424b26f2929",
   "metadata": {},
   "source": [
    "## Question 3"
   ]
  },
  {
   "cell_type": "code",
   "execution_count": 5,
   "id": "cb710fc0-207c-4ce0-b356-30a6b780d2d7",
   "metadata": {},
   "outputs": [],
   "source": [
    "beersDF = fread(\"/anvil/projects/tdm/data/beer/reviews_sample.csv\")"
   ]
  },
  {
   "cell_type": "code",
   "execution_count": 6,
   "id": "bbe0f40d-9655-4653-9ca8-886bdb61cb91",
   "metadata": {},
   "outputs": [
    {
     "data": {
      "text/plain": [
       "\n",
       "       jaydoc   Texasfan549         Sammy   kylehay2004 StonedTrippin \n",
       "         1489          1532          1591          1628          1630 \n",
       "      acurtis \n",
       "         1646 "
      ]
     },
     "metadata": {},
     "output_type": "display_data"
    }
   ],
   "source": [
    "# Part a\n",
    "reviews = table(beersDF$username)\n",
    "reviews_sorted = sort(reviews)\n",
    "tail(reviews_sorted)"
   ]
  },
  {
   "cell_type": "markdown",
   "id": "fb7da7d5-91ff-459f-962f-7213425b922a",
   "metadata": {},
   "source": [
    "It uses more lines of code, but I like to separate out the difference methods like this."
   ]
  },
  {
   "cell_type": "code",
   "execution_count": 7,
   "id": "9bf0f50a-15c1-408e-a325-55e5efb13120",
   "metadata": {},
   "outputs": [
    {
     "data": {
      "text/html": [
       "3.65580194410693"
      ],
      "text/latex": [
       "3.65580194410693"
      ],
      "text/markdown": [
       "3.65580194410693"
      ],
      "text/plain": [
       "[1] 3.655802"
      ]
     },
     "metadata": {},
     "output_type": "display_data"
    }
   ],
   "source": [
    "# Part b\n",
    "acurtis_mean = mean(beersDF$score[(beersDF$username == \"acurtis\")])\n",
    "acurtis_mean"
   ]
  },
  {
   "cell_type": "markdown",
   "id": "fa2a5154-a33f-4630-b5b9-5b0c10643575",
   "metadata": {},
   "source": [
    "Indexing, but inside a function this time."
   ]
  },
  {
   "cell_type": "markdown",
   "id": "da22f29c-d245-4d2b-9fc1-ca14cb6087d9",
   "metadata": {},
   "source": [
    "## Question 4"
   ]
  },
  {
   "cell_type": "code",
   "execution_count": 8,
   "id": "8cffc767-d1c8-4d64-b7dc-f0d2ee8a80d1",
   "metadata": {},
   "outputs": [],
   "source": [
    "# copied directly from question\n",
    "library(data.table)\n",
    "myDF <- fread(\"/anvil/projects/tdm/data/election/itcont1980.txt\", quote=\"\")\n",
    "names(myDF) <- c(\"CMTE_ID\", \"AMNDT_IND\", \"RPT_TP\", \"TRANSACTION_PGI\", \"IMAGE_NUM\", \"TRANSACTION_TP\", \"ENTITY_TP\", \"NAME\", \"CITY\", \"STATE\", \"ZIP_CODE\", \"EMPLOYER\", \"OCCUPATION\", \"TRANSACTION_DT\", \"TRANSACTION_AMT\", \"OTHER_ID\", \"TRAN_ID\", \"FILE_NUM\", \"MEMO_CD\", \"MEMO_TEXT\", \"SUB_ID\")"
   ]
  },
  {
   "cell_type": "code",
   "execution_count": 9,
   "id": "5071d46d-cbee-4352-8d42-cfac94bbf82a",
   "metadata": {},
   "outputs": [
    {
     "data": {
      "text/plain": [
       "\n",
       "      CURCIO, BARBARA G SCHECK, RICHARD HERBERT          WOLFF, GARY W. \n",
       "                      1                       6                       2 "
      ]
     },
     "metadata": {},
     "output_type": "display_data"
    }
   ],
   "source": [
    "missing_dt = table(myDF$NAME[is.na(myDF$TRANSACTION_DT)])\n",
    "missing_dt"
   ]
  },
  {
   "cell_type": "markdown",
   "id": "ce3c8bed-93c3-4fe0-b687-ca159188185b",
   "metadata": {},
   "source": [
    "Indexing, but with a function on the inside!"
   ]
  },
  {
   "cell_type": "markdown",
   "id": "88c9cdac-3e92-498f-83fa-e089bfc44ac8",
   "metadata": {},
   "source": [
    "## Question 5"
   ]
  },
  {
   "cell_type": "code",
   "execution_count": 13,
   "id": "d370d7c9-06db-42b9-b75f-240481a5c491",
   "metadata": {},
   "outputs": [
    {
     "data": {
      "text/html": [
       "0.987949297205096"
      ],
      "text/latex": [
       "0.987949297205096"
      ],
      "text/markdown": [
       "0.987949297205096"
      ],
      "text/plain": [
       "[1] 0.9879493"
      ]
     },
     "metadata": {},
     "output_type": "display_data"
    }
   ],
   "source": [
    "library(data.table)\n",
    "flightsDF = fread(\"/anvil/projects/tdm/data/flights/subset/1990.csv\")\n",
    "\n",
    "trimmedDF = flightsDF[(flightsDF$Origin == \"EMR\") | (flightsDF$Origin == \"JFK\") | (flightsDF$Origin == \"LGA\")]\n",
    "mean_delays = mean(!is.na(trimmedDF$DepDelay))\n",
    "mean_delays"
   ]
  },
  {
   "cell_type": "markdown",
   "id": "ed441c69-560c-4a74-b4d5-68a50bfe134e",
   "metadata": {},
   "source": [
    "Took me forever to figure out I needed to put the is.na() around the DepDelay, not the Origin. For this question, I definitely preferred using subset(), since there was a lot less repeated typing."
   ]
  },
  {
   "cell_type": "markdown",
   "id": "f76442d6-d02e-4f26-b9d6-c3183e1d6929",
   "metadata": {},
   "source": [
    "## Pledge\n",
    "\n",
    "By submitting this work I hereby pledge that this is my own, personal work. I've acknowledged in the designated place at the top of this file all sources that I used to complete said work, including but not limited to: online resources, books, and electronic communications. I've noted all collaboration with fellow students and/or TA's. I did not copy or plagiarize another's work.\n",
    "\n",
    "> As a Boilermaker pursuing academic excellence, I pledge to be honest and true in all that I do. Accountable together – We are Purdue."
   ]
  }
 ],
 "metadata": {
  "kernelspec": {
   "display_name": "seminar-r",
   "language": "R",
   "name": "seminar-r"
  },
  "language_info": {
   "codemirror_mode": "r",
   "file_extension": ".r",
   "mimetype": "text/x-r-source",
   "name": "R",
   "pygments_lexer": "r",
   "version": "4.4.1"
  }
 },
 "nbformat": 4,
 "nbformat_minor": 5
}
